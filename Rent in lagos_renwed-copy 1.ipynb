{
 "cells": [
  {
   "cell_type": "markdown",
   "id": "12f45089",
   "metadata": {},
   "source": [
    "## Introduction:\n",
    "\n",
    "### 1.1 Context\n",
    "House hunting in Lagos can be a very frustrating process. From being shown houses with ridiculously small spaces to being asked to pay outrageous prices for those spaces, the entire process can be very time-consuming and demoralizing. The prices of houses are a major problem, especially when you don't know what to expect.\n",
    "\n",
    "This notebook explores the factors that influence rental prices in Lagos, Nigeria. Using a dataset of property features, we will build a predictive model that can estimate rental prices. This will help landlords, tenants, and real estate enthusiasts make informed decisions in the Lagos rental market.\n",
    "\n",
    "### 1.2 Data Features\n",
    "The data for this analysis was gotten from Kaggle, which was originally scrapped from property.pro.ng, a webpage that provides information for houses available for rent in Nigeria. Here is what the data looks like:\n",
    "\n",
    "* Title: Title of the property e.g. Brand New 5 Bedroom Semi-Detached Duplex\n",
    "* More Info: More Information about the property e.g. 4 BEDROOM HOUSE FOR RENT\n",
    "* City: City where the property is located e.g. Lekki\n",
    "* Neighborhood: Where the property is located e.g. Osapa London\n",
    "* Serviced: Whether the property has been serviced e.g. sockets have been installed or other renovations.\n",
    "* Newly Built: Whether the property was newly built\n",
    "* Furnished: Whether the property has been furnished\n",
    "* Bedrooms: Number of bedrooms on the property\n",
    "* Bathrooms:Number of bathrooms on the property\n",
    "* Toilets: Number of toilets on the property\n",
    "* Price: The price of the property\n",
    "\n",
    "\n",
    "### 1.3 Pre-Requsities\n",
    "For this project we would be making use of several libraries, the first set being the usual libraries, Numpy,Pandas for manipulating data and seaborn and Matplotlib for visualization. Then we would be importing several libraries from sklearn for prediction. Some of the basic ones we would be using are; RandomForest Regressor, Ridge Regressor, DecisionTreeRegressor, Lasso Regressor, etc.\n",
    "The several  model: \n",
    "  \n",
    " NB: Any model not stated in the original library importation field would be explained as we go"
   ]
  },
  {
   "cell_type": "code",
   "execution_count": 1,
   "id": "a75bbb8b",
   "metadata": {},
   "outputs": [],
   "source": [
    "#Importing important libraries\n",
    "import numpy as np\n",
    "import pandas as pd\n",
    "\n",
    "# Visualization libraries\n",
    "import matplotlib.pyplot as plt\n",
    "import seaborn as sns\n",
    "\n",
    "# ML library\n",
    "import sklearn\n",
    "\n",
    "# Ignore warnings to keep the output clean\n",
    "import warnings\n",
    "warnings.filterwarnings(\"ignore\")"
   ]
  },
  {
   "cell_type": "markdown",
   "id": "1c4d4a2c",
   "metadata": {},
   "source": [
    "## 2.0  Data Wrangling\n",
    "\n",
    "Here we would be looking at the following:\n",
    "* Loading the data.\n",
    "* Taking out commercail locations in the dataset\n",
    "* Dropping unneeded columns(Title and More info column)\n",
    "* Handling the numeric columns; Price, Bedrooms, Bathrooms, Toilets\n",
    "* Getting the statistics of the dataset\n",
    "* Exploring the statistics of the data.\n",
    "\n",
    "### 2.1 Loading the data."
   ]
  },
  {
   "cell_type": "code",
   "execution_count": 2,
   "id": "f1637e91",
   "metadata": {},
   "outputs": [
    {
     "data": {
      "text/html": [
       "<div>\n",
       "<style scoped>\n",
       "    .dataframe tbody tr th:only-of-type {\n",
       "        vertical-align: middle;\n",
       "    }\n",
       "\n",
       "    .dataframe tbody tr th {\n",
       "        vertical-align: top;\n",
       "    }\n",
       "\n",
       "    .dataframe thead th {\n",
       "        text-align: right;\n",
       "    }\n",
       "</style>\n",
       "<table border=\"1\" class=\"dataframe\">\n",
       "  <thead>\n",
       "    <tr style=\"text-align: right;\">\n",
       "      <th></th>\n",
       "      <th>Title</th>\n",
       "      <th>More Info</th>\n",
       "      <th>Price</th>\n",
       "      <th>Serviced</th>\n",
       "      <th>Newly Built</th>\n",
       "      <th>Furnished</th>\n",
       "      <th>Bedrooms</th>\n",
       "      <th>Bathrooms</th>\n",
       "      <th>Toilets</th>\n",
       "      <th>City</th>\n",
       "      <th>Neighborhood</th>\n",
       "    </tr>\n",
       "  </thead>\n",
       "  <tbody>\n",
       "    <tr>\n",
       "      <th>0</th>\n",
       "      <td>Newly Built 4 Bedroom Semi Detached House With Bq</td>\n",
       "      <td>4 BEDROOM HOUSE FOR RENT</td>\n",
       "      <td>5,000,000/year</td>\n",
       "      <td>0</td>\n",
       "      <td>1</td>\n",
       "      <td>0</td>\n",
       "      <td>4 beds</td>\n",
       "      <td>4 baths</td>\n",
       "      <td>5 Toilets</td>\n",
       "      <td>Lekki</td>\n",
       "      <td>Agungi</td>\n",
       "    </tr>\n",
       "    <tr>\n",
       "      <th>1</th>\n",
       "      <td>Superb 4 Bedroom Semi Detached Duplex With Bq</td>\n",
       "      <td>4 BEDROOM HOUSE FOR RENT</td>\n",
       "      <td>5,000,000/year</td>\n",
       "      <td>0</td>\n",
       "      <td>1</td>\n",
       "      <td>0</td>\n",
       "      <td>4 beds</td>\n",
       "      <td>4 baths</td>\n",
       "      <td>5 Toilets</td>\n",
       "      <td>Lekki</td>\n",
       "      <td>Other Lekki</td>\n",
       "    </tr>\n",
       "    <tr>\n",
       "      <th>2</th>\n",
       "      <td>Furnished 2 Bedroom Terrace Duplex For Rent !!!</td>\n",
       "      <td>2 BEDROOM HOUSE FOR RENT</td>\n",
       "      <td>3,500,000</td>\n",
       "      <td>1</td>\n",
       "      <td>0</td>\n",
       "      <td>0</td>\n",
       "      <td>2 beds</td>\n",
       "      <td>3 baths</td>\n",
       "      <td>3 Toilets</td>\n",
       "      <td>Lekki</td>\n",
       "      <td>Osapa London</td>\n",
       "    </tr>\n",
       "    <tr>\n",
       "      <th>3</th>\n",
       "      <td>2 Bedroom Apartment For Rent</td>\n",
       "      <td>2 BEDROOM HOUSE FOR RENT</td>\n",
       "      <td>2,700,000</td>\n",
       "      <td>1</td>\n",
       "      <td>1</td>\n",
       "      <td>0</td>\n",
       "      <td>2 beds</td>\n",
       "      <td>3 baths</td>\n",
       "      <td>3 Toilets</td>\n",
       "      <td>Lekki</td>\n",
       "      <td>Ologolo</td>\n",
       "    </tr>\n",
       "    <tr>\n",
       "      <th>4</th>\n",
       "      <td>4 Bedroom Terrace Duplex For Rent</td>\n",
       "      <td>4 BEDROOM HOUSE FOR RENT</td>\n",
       "      <td>4,000,000</td>\n",
       "      <td>1</td>\n",
       "      <td>0</td>\n",
       "      <td>0</td>\n",
       "      <td>4 beds</td>\n",
       "      <td>5 baths</td>\n",
       "      <td>5 Toilets</td>\n",
       "      <td>Lekki</td>\n",
       "      <td>Chevron</td>\n",
       "    </tr>\n",
       "  </tbody>\n",
       "</table>\n",
       "</div>"
      ],
      "text/plain": [
       "                                               Title  \\\n",
       "0  Newly Built 4 Bedroom Semi Detached House With Bq   \n",
       "1      Superb 4 Bedroom Semi Detached Duplex With Bq   \n",
       "2    Furnished 2 Bedroom Terrace Duplex For Rent !!!   \n",
       "3                       2 Bedroom Apartment For Rent   \n",
       "4                  4 Bedroom Terrace Duplex For Rent   \n",
       "\n",
       "                  More Info           Price  Serviced  Newly Built  Furnished  \\\n",
       "0  4 BEDROOM HOUSE FOR RENT  5,000,000/year         0            1          0   \n",
       "1  4 BEDROOM HOUSE FOR RENT  5,000,000/year         0            1          0   \n",
       "2  2 BEDROOM HOUSE FOR RENT       3,500,000         1            0          0   \n",
       "3  2 BEDROOM HOUSE FOR RENT       2,700,000         1            1          0   \n",
       "4  4 BEDROOM HOUSE FOR RENT       4,000,000         1            0          0   \n",
       "\n",
       "  Bedrooms Bathrooms    Toilets   City  Neighborhood  \n",
       "0   4 beds   4 baths  5 Toilets  Lekki        Agungi  \n",
       "1   4 beds   4 baths  5 Toilets  Lekki   Other Lekki  \n",
       "2   2 beds   3 baths  3 Toilets  Lekki  Osapa London  \n",
       "3   2 beds   3 baths  3 Toilets  Lekki       Ologolo  \n",
       "4   4 beds   5 baths  5 Toilets  Lekki       Chevron  "
      ]
     },
     "execution_count": 2,
     "metadata": {},
     "output_type": "execute_result"
    }
   ],
   "source": [
    "# Reading the data file\n",
    "df = pd.read_csv('lagos-rent_renewed.csv')\n",
    "df.head(5)"
   ]
  },
  {
   "cell_type": "markdown",
   "id": "98808f6f",
   "metadata": {},
   "source": [
    "### 2.2 Dropping Rows with Non-residential Addresses\n",
    "For this analysis we are more concerned with just residential buildings, so we will be dropping rows that include details for commerical buildings, church, office space, conferences, schools, and even lands."
   ]
  },
  {
   "cell_type": "code",
   "execution_count": 3,
   "id": "5e978f20",
   "metadata": {},
   "outputs": [
    {
     "data": {
      "text/html": [
       "<div>\n",
       "<style scoped>\n",
       "    .dataframe tbody tr th:only-of-type {\n",
       "        vertical-align: middle;\n",
       "    }\n",
       "\n",
       "    .dataframe tbody tr th {\n",
       "        vertical-align: top;\n",
       "    }\n",
       "\n",
       "    .dataframe thead th {\n",
       "        text-align: right;\n",
       "    }\n",
       "</style>\n",
       "<table border=\"1\" class=\"dataframe\">\n",
       "  <thead>\n",
       "    <tr style=\"text-align: right;\">\n",
       "      <th></th>\n",
       "      <th>Title</th>\n",
       "      <th>More Info</th>\n",
       "      <th>Price</th>\n",
       "      <th>Serviced</th>\n",
       "      <th>Newly Built</th>\n",
       "      <th>Furnished</th>\n",
       "      <th>Bedrooms</th>\n",
       "      <th>Bathrooms</th>\n",
       "      <th>Toilets</th>\n",
       "      <th>City</th>\n",
       "      <th>Neighborhood</th>\n",
       "    </tr>\n",
       "  </thead>\n",
       "  <tbody>\n",
       "    <tr>\n",
       "      <th>0</th>\n",
       "      <td>Newly Built 4 Bedroom Semi Detached House With Bq</td>\n",
       "      <td>4 BEDROOM HOUSE FOR RENT</td>\n",
       "      <td>5,000,000/year</td>\n",
       "      <td>0</td>\n",
       "      <td>1</td>\n",
       "      <td>0</td>\n",
       "      <td>4 beds</td>\n",
       "      <td>4 baths</td>\n",
       "      <td>5 Toilets</td>\n",
       "      <td>Lekki</td>\n",
       "      <td>Agungi</td>\n",
       "    </tr>\n",
       "    <tr>\n",
       "      <th>1</th>\n",
       "      <td>Superb 4 Bedroom Semi Detached Duplex With Bq</td>\n",
       "      <td>4 BEDROOM HOUSE FOR RENT</td>\n",
       "      <td>5,000,000/year</td>\n",
       "      <td>0</td>\n",
       "      <td>1</td>\n",
       "      <td>0</td>\n",
       "      <td>4 beds</td>\n",
       "      <td>4 baths</td>\n",
       "      <td>5 Toilets</td>\n",
       "      <td>Lekki</td>\n",
       "      <td>Other Lekki</td>\n",
       "    </tr>\n",
       "    <tr>\n",
       "      <th>2</th>\n",
       "      <td>Furnished 2 Bedroom Terrace Duplex For Rent !!!</td>\n",
       "      <td>2 BEDROOM HOUSE FOR RENT</td>\n",
       "      <td>3,500,000</td>\n",
       "      <td>1</td>\n",
       "      <td>0</td>\n",
       "      <td>0</td>\n",
       "      <td>2 beds</td>\n",
       "      <td>3 baths</td>\n",
       "      <td>3 Toilets</td>\n",
       "      <td>Lekki</td>\n",
       "      <td>Osapa London</td>\n",
       "    </tr>\n",
       "    <tr>\n",
       "      <th>3</th>\n",
       "      <td>2 Bedroom Apartment For Rent</td>\n",
       "      <td>2 BEDROOM HOUSE FOR RENT</td>\n",
       "      <td>2,700,000</td>\n",
       "      <td>1</td>\n",
       "      <td>1</td>\n",
       "      <td>0</td>\n",
       "      <td>2 beds</td>\n",
       "      <td>3 baths</td>\n",
       "      <td>3 Toilets</td>\n",
       "      <td>Lekki</td>\n",
       "      <td>Ologolo</td>\n",
       "    </tr>\n",
       "    <tr>\n",
       "      <th>4</th>\n",
       "      <td>4 Bedroom Terrace Duplex For Rent</td>\n",
       "      <td>4 BEDROOM HOUSE FOR RENT</td>\n",
       "      <td>4,000,000</td>\n",
       "      <td>1</td>\n",
       "      <td>0</td>\n",
       "      <td>0</td>\n",
       "      <td>4 beds</td>\n",
       "      <td>5 baths</td>\n",
       "      <td>5 Toilets</td>\n",
       "      <td>Lekki</td>\n",
       "      <td>Chevron</td>\n",
       "    </tr>\n",
       "  </tbody>\n",
       "</table>\n",
       "</div>"
      ],
      "text/plain": [
       "                                               Title  \\\n",
       "0  Newly Built 4 Bedroom Semi Detached House With Bq   \n",
       "1      Superb 4 Bedroom Semi Detached Duplex With Bq   \n",
       "2    Furnished 2 Bedroom Terrace Duplex For Rent !!!   \n",
       "3                       2 Bedroom Apartment For Rent   \n",
       "4                  4 Bedroom Terrace Duplex For Rent   \n",
       "\n",
       "                  More Info           Price  Serviced  Newly Built  Furnished  \\\n",
       "0  4 BEDROOM HOUSE FOR RENT  5,000,000/year         0            1          0   \n",
       "1  4 BEDROOM HOUSE FOR RENT  5,000,000/year         0            1          0   \n",
       "2  2 BEDROOM HOUSE FOR RENT       3,500,000         1            0          0   \n",
       "3  2 BEDROOM HOUSE FOR RENT       2,700,000         1            1          0   \n",
       "4  4 BEDROOM HOUSE FOR RENT       4,000,000         1            0          0   \n",
       "\n",
       "  Bedrooms Bathrooms    Toilets   City  Neighborhood  \n",
       "0   4 beds   4 baths  5 Toilets  Lekki        Agungi  \n",
       "1   4 beds   4 baths  5 Toilets  Lekki   Other Lekki  \n",
       "2   2 beds   3 baths  3 Toilets  Lekki  Osapa London  \n",
       "3   2 beds   3 baths  3 Toilets  Lekki       Ologolo  \n",
       "4   4 beds   5 baths  5 Toilets  Lekki       Chevron  "
      ]
     },
     "execution_count": 3,
     "metadata": {},
     "output_type": "execute_result"
    }
   ],
   "source": [
    "# Locating non-residential building in the dataset\n",
    "commercial_locations= df[df['More Info'].str.contains('COMMERCIAL|WAREHOUSE|CONFERENCE|LAND|CHURCH|EVENT CENTRE|WORKING SPACE|SCHOOL|OFFICE', case=False)]\n",
    "df = df.drop(commercial_locations.index, axis=0)\n",
    "df.head()"
   ]
  },
  {
   "cell_type": "markdown",
   "id": "73ee509e",
   "metadata": {},
   "source": [
    "### 2.3 Removing unwanted columns\n",
    "\n",
    "Details in the Title and More Info column are already summarised in the Neighborhood column, thus we have no use for those two columns, we will be dropping them."
   ]
  },
  {
   "cell_type": "code",
   "execution_count": 4,
   "id": "bb7bc479",
   "metadata": {},
   "outputs": [
    {
     "data": {
      "text/html": [
       "<div>\n",
       "<style scoped>\n",
       "    .dataframe tbody tr th:only-of-type {\n",
       "        vertical-align: middle;\n",
       "    }\n",
       "\n",
       "    .dataframe tbody tr th {\n",
       "        vertical-align: top;\n",
       "    }\n",
       "\n",
       "    .dataframe thead th {\n",
       "        text-align: right;\n",
       "    }\n",
       "</style>\n",
       "<table border=\"1\" class=\"dataframe\">\n",
       "  <thead>\n",
       "    <tr style=\"text-align: right;\">\n",
       "      <th></th>\n",
       "      <th>Price</th>\n",
       "      <th>Serviced</th>\n",
       "      <th>Newly Built</th>\n",
       "      <th>Furnished</th>\n",
       "      <th>Bedrooms</th>\n",
       "      <th>Bathrooms</th>\n",
       "      <th>Toilets</th>\n",
       "      <th>City</th>\n",
       "      <th>Neighborhood</th>\n",
       "    </tr>\n",
       "  </thead>\n",
       "  <tbody>\n",
       "    <tr>\n",
       "      <th>0</th>\n",
       "      <td>5,000,000/year</td>\n",
       "      <td>0</td>\n",
       "      <td>1</td>\n",
       "      <td>0</td>\n",
       "      <td>4 beds</td>\n",
       "      <td>4 baths</td>\n",
       "      <td>5 Toilets</td>\n",
       "      <td>Lekki</td>\n",
       "      <td>Agungi</td>\n",
       "    </tr>\n",
       "    <tr>\n",
       "      <th>1</th>\n",
       "      <td>5,000,000/year</td>\n",
       "      <td>0</td>\n",
       "      <td>1</td>\n",
       "      <td>0</td>\n",
       "      <td>4 beds</td>\n",
       "      <td>4 baths</td>\n",
       "      <td>5 Toilets</td>\n",
       "      <td>Lekki</td>\n",
       "      <td>Other Lekki</td>\n",
       "    </tr>\n",
       "    <tr>\n",
       "      <th>2</th>\n",
       "      <td>3,500,000</td>\n",
       "      <td>1</td>\n",
       "      <td>0</td>\n",
       "      <td>0</td>\n",
       "      <td>2 beds</td>\n",
       "      <td>3 baths</td>\n",
       "      <td>3 Toilets</td>\n",
       "      <td>Lekki</td>\n",
       "      <td>Osapa London</td>\n",
       "    </tr>\n",
       "    <tr>\n",
       "      <th>3</th>\n",
       "      <td>2,700,000</td>\n",
       "      <td>1</td>\n",
       "      <td>1</td>\n",
       "      <td>0</td>\n",
       "      <td>2 beds</td>\n",
       "      <td>3 baths</td>\n",
       "      <td>3 Toilets</td>\n",
       "      <td>Lekki</td>\n",
       "      <td>Ologolo</td>\n",
       "    </tr>\n",
       "    <tr>\n",
       "      <th>4</th>\n",
       "      <td>4,000,000</td>\n",
       "      <td>1</td>\n",
       "      <td>0</td>\n",
       "      <td>0</td>\n",
       "      <td>4 beds</td>\n",
       "      <td>5 baths</td>\n",
       "      <td>5 Toilets</td>\n",
       "      <td>Lekki</td>\n",
       "      <td>Chevron</td>\n",
       "    </tr>\n",
       "  </tbody>\n",
       "</table>\n",
       "</div>"
      ],
      "text/plain": [
       "            Price  Serviced  Newly Built  Furnished Bedrooms Bathrooms  \\\n",
       "0  5,000,000/year         0            1          0   4 beds   4 baths   \n",
       "1  5,000,000/year         0            1          0   4 beds   4 baths   \n",
       "2       3,500,000         1            0          0   2 beds   3 baths   \n",
       "3       2,700,000         1            1          0   2 beds   3 baths   \n",
       "4       4,000,000         1            0          0   4 beds   5 baths   \n",
       "\n",
       "     Toilets   City  Neighborhood  \n",
       "0  5 Toilets  Lekki        Agungi  \n",
       "1  5 Toilets  Lekki   Other Lekki  \n",
       "2  3 Toilets  Lekki  Osapa London  \n",
       "3  3 Toilets  Lekki       Ologolo  \n",
       "4  5 Toilets  Lekki       Chevron  "
      ]
     },
     "execution_count": 4,
     "metadata": {},
     "output_type": "execute_result"
    }
   ],
   "source": [
    "# Droping the Title and More Info column as they are not reqiured for this analysis(a repeat)\n",
    "df = df.drop(['Title', 'More Info'], axis=1)\n",
    "df.head(5)"
   ]
  },
  {
   "cell_type": "markdown",
   "id": "18bb36ab",
   "metadata": {},
   "source": [
    "### 2.4 Cleaning the Numeric Columns\n",
    "\n",
    "The Price, Bedrooms, Bathrooms and Toilets column contain string variables which are not useful for our ML model, also, they are all object type. We will be extracting just the numberic values from these columns, and converting their type to integers."
   ]
  },
  {
   "cell_type": "code",
   "execution_count": 5,
   "id": "94ccc243",
   "metadata": {},
   "outputs": [
    {
     "data": {
      "text/html": [
       "<div>\n",
       "<style scoped>\n",
       "    .dataframe tbody tr th:only-of-type {\n",
       "        vertical-align: middle;\n",
       "    }\n",
       "\n",
       "    .dataframe tbody tr th {\n",
       "        vertical-align: top;\n",
       "    }\n",
       "\n",
       "    .dataframe thead th {\n",
       "        text-align: right;\n",
       "    }\n",
       "</style>\n",
       "<table border=\"1\" class=\"dataframe\">\n",
       "  <thead>\n",
       "    <tr style=\"text-align: right;\">\n",
       "      <th></th>\n",
       "      <th>Price</th>\n",
       "      <th>Serviced</th>\n",
       "      <th>Newly Built</th>\n",
       "      <th>Furnished</th>\n",
       "      <th>Bedrooms</th>\n",
       "      <th>Bathrooms</th>\n",
       "      <th>Toilets</th>\n",
       "      <th>City</th>\n",
       "      <th>Neighborhood</th>\n",
       "    </tr>\n",
       "  </thead>\n",
       "  <tbody>\n",
       "    <tr>\n",
       "      <th>0</th>\n",
       "      <td>5000000</td>\n",
       "      <td>0</td>\n",
       "      <td>1</td>\n",
       "      <td>0</td>\n",
       "      <td>4</td>\n",
       "      <td>4</td>\n",
       "      <td>5</td>\n",
       "      <td>Lekki</td>\n",
       "      <td>Agungi</td>\n",
       "    </tr>\n",
       "    <tr>\n",
       "      <th>1</th>\n",
       "      <td>5000000</td>\n",
       "      <td>0</td>\n",
       "      <td>1</td>\n",
       "      <td>0</td>\n",
       "      <td>4</td>\n",
       "      <td>4</td>\n",
       "      <td>5</td>\n",
       "      <td>Lekki</td>\n",
       "      <td>Other Lekki</td>\n",
       "    </tr>\n",
       "    <tr>\n",
       "      <th>2</th>\n",
       "      <td>3500000</td>\n",
       "      <td>1</td>\n",
       "      <td>0</td>\n",
       "      <td>0</td>\n",
       "      <td>2</td>\n",
       "      <td>3</td>\n",
       "      <td>3</td>\n",
       "      <td>Lekki</td>\n",
       "      <td>Osapa London</td>\n",
       "    </tr>\n",
       "    <tr>\n",
       "      <th>3</th>\n",
       "      <td>2700000</td>\n",
       "      <td>1</td>\n",
       "      <td>1</td>\n",
       "      <td>0</td>\n",
       "      <td>2</td>\n",
       "      <td>3</td>\n",
       "      <td>3</td>\n",
       "      <td>Lekki</td>\n",
       "      <td>Ologolo</td>\n",
       "    </tr>\n",
       "    <tr>\n",
       "      <th>4</th>\n",
       "      <td>4000000</td>\n",
       "      <td>1</td>\n",
       "      <td>0</td>\n",
       "      <td>0</td>\n",
       "      <td>4</td>\n",
       "      <td>5</td>\n",
       "      <td>5</td>\n",
       "      <td>Lekki</td>\n",
       "      <td>Chevron</td>\n",
       "    </tr>\n",
       "  </tbody>\n",
       "</table>\n",
       "</div>"
      ],
      "text/plain": [
       "     Price  Serviced  Newly Built  Furnished Bedrooms Bathrooms Toilets  \\\n",
       "0  5000000         0            1          0        4         4       5   \n",
       "1  5000000         0            1          0        4         4       5   \n",
       "2  3500000         1            0          0        2         3       3   \n",
       "3  2700000         1            1          0        2         3       3   \n",
       "4  4000000         1            0          0        4         5       5   \n",
       "\n",
       "    City  Neighborhood  \n",
       "0  Lekki        Agungi  \n",
       "1  Lekki   Other Lekki  \n",
       "2  Lekki  Osapa London  \n",
       "3  Lekki       Ologolo  \n",
       "4  Lekki       Chevron  "
      ]
     },
     "execution_count": 5,
     "metadata": {},
     "output_type": "execute_result"
    }
   ],
   "source": [
    "# Converting the Price column to integers\n",
    "\n",
    "# Extracting the numeric values in the columns\n",
    "df['Bedrooms']= df['Bedrooms'].str.extract(r'(\\d+) beds')\n",
    "df['Toilets']= df['Toilets'].str.extract(r'(\\d+) Toilets')\n",
    "df['Bathrooms']= df['Bathrooms'].str.extract(r'(\\d+) baths')\n",
    "df['Price']= df['Price'].str.extract(r'([\\d,]+)')\n",
    "\n",
    "# Removing the comma seperators from the price column\n",
    "df['Price']= df['Price'].str.replace(',', '')\n",
    "                                                                    \n",
    "df.head()"
   ]
  },
  {
   "cell_type": "code",
   "execution_count": 6,
   "id": "f52742c4",
   "metadata": {},
   "outputs": [
    {
     "data": {
      "text/plain": [
       "Price              0\n",
       "Serviced           0\n",
       "Newly Built        0\n",
       "Furnished          0\n",
       "Bedrooms         731\n",
       "Bathrooms       1482\n",
       "Toilets         1652\n",
       "City               0\n",
       "Neighborhood       0\n",
       "dtype: int64"
      ]
     },
     "execution_count": 6,
     "metadata": {},
     "output_type": "execute_result"
    }
   ],
   "source": [
    "# Checking for NA values\n",
    "df.isna().sum()"
   ]
  },
  {
   "cell_type": "markdown",
   "id": "1628ba2d",
   "metadata": {},
   "source": [
    "#### Observation:\n",
    "\n",
    "There appears to be null values in the bedrooms,bathroom, and toilets column. We will be dropping all NA rows.\n",
    "\n",
    "###### Dropping rows with na values"
   ]
  },
  {
   "cell_type": "code",
   "execution_count": 7,
   "id": "96b52244",
   "metadata": {},
   "outputs": [
    {
     "data": {
      "text/plain": [
       "Price           0\n",
       "Serviced        0\n",
       "Newly Built     0\n",
       "Furnished       0\n",
       "Bedrooms        0\n",
       "Bathrooms       0\n",
       "Toilets         0\n",
       "City            0\n",
       "Neighborhood    0\n",
       "dtype: int64"
      ]
     },
     "execution_count": 7,
     "metadata": {},
     "output_type": "execute_result"
    }
   ],
   "source": [
    "# Dropping NA values in the columns\n",
    "df.dropna(subset=['Bedrooms', 'Toilets','Bathrooms' ], inplace=True)\n",
    "df.isna().sum()"
   ]
  },
  {
   "cell_type": "code",
   "execution_count": 8,
   "id": "971a003d",
   "metadata": {},
   "outputs": [
    {
     "name": "stdout",
     "output_type": "stream",
     "text": [
      "<class 'pandas.core.frame.DataFrame'>\n",
      "Int64Index: 50045 entries, 0 to 53069\n",
      "Data columns (total 9 columns):\n",
      " #   Column        Non-Null Count  Dtype \n",
      "---  ------        --------------  ----- \n",
      " 0   Price         50045 non-null  int64 \n",
      " 1   Serviced      50045 non-null  int64 \n",
      " 2   Newly Built   50045 non-null  int64 \n",
      " 3   Furnished     50045 non-null  int64 \n",
      " 4   Bedrooms      50045 non-null  int64 \n",
      " 5   Bathrooms     50045 non-null  int64 \n",
      " 6   Toilets       50045 non-null  int64 \n",
      " 7   City          50045 non-null  object\n",
      " 8   Neighborhood  50045 non-null  object\n",
      "dtypes: int64(7), object(2)\n",
      "memory usage: 3.8+ MB\n"
     ]
    }
   ],
   "source": [
    "# Changing the datatypes for the columns\n",
    "data_types = {\n",
    "    'Price': int,\n",
    "    'Bedrooms': int,\n",
    "    'Bathrooms': int,\n",
    "    'Toilets': int\n",
    "}\n",
    "\n",
    "df= df.astype(data_types)\n",
    "df.info()"
   ]
  },
  {
   "cell_type": "markdown",
   "id": "83c54a15",
   "metadata": {},
   "source": [
    "We have now succefully cleaned up the affected columns.\n",
    "\n",
    "### 2.5 Checking the Overall Statistics of the Dataset"
   ]
  },
  {
   "cell_type": "code",
   "execution_count": 9,
   "id": "eb1a0378",
   "metadata": {},
   "outputs": [
    {
     "data": {
      "text/html": [
       "<div>\n",
       "<style scoped>\n",
       "    .dataframe tbody tr th:only-of-type {\n",
       "        vertical-align: middle;\n",
       "    }\n",
       "\n",
       "    .dataframe tbody tr th {\n",
       "        vertical-align: top;\n",
       "    }\n",
       "\n",
       "    .dataframe thead th {\n",
       "        text-align: right;\n",
       "    }\n",
       "</style>\n",
       "<table border=\"1\" class=\"dataframe\">\n",
       "  <thead>\n",
       "    <tr style=\"text-align: right;\">\n",
       "      <th></th>\n",
       "      <th>Price</th>\n",
       "      <th>Serviced</th>\n",
       "      <th>Newly Built</th>\n",
       "      <th>Furnished</th>\n",
       "      <th>Bedrooms</th>\n",
       "      <th>Bathrooms</th>\n",
       "      <th>Toilets</th>\n",
       "    </tr>\n",
       "  </thead>\n",
       "  <tbody>\n",
       "    <tr>\n",
       "      <th>count</th>\n",
       "      <td>5.004500e+04</td>\n",
       "      <td>50045.000000</td>\n",
       "      <td>50045.000000</td>\n",
       "      <td>50045.000000</td>\n",
       "      <td>50045.000000</td>\n",
       "      <td>50045.000000</td>\n",
       "      <td>50045.000000</td>\n",
       "    </tr>\n",
       "    <tr>\n",
       "      <th>mean</th>\n",
       "      <td>4.413863e+07</td>\n",
       "      <td>0.213368</td>\n",
       "      <td>0.290898</td>\n",
       "      <td>0.118573</td>\n",
       "      <td>2.430393</td>\n",
       "      <td>2.289220</td>\n",
       "      <td>2.707263</td>\n",
       "    </tr>\n",
       "    <tr>\n",
       "      <th>std</th>\n",
       "      <td>7.602166e+09</td>\n",
       "      <td>0.409689</td>\n",
       "      <td>0.454181</td>\n",
       "      <td>0.323289</td>\n",
       "      <td>1.448520</td>\n",
       "      <td>1.611444</td>\n",
       "      <td>1.891613</td>\n",
       "    </tr>\n",
       "    <tr>\n",
       "      <th>min</th>\n",
       "      <td>1.000000e+00</td>\n",
       "      <td>0.000000</td>\n",
       "      <td>0.000000</td>\n",
       "      <td>0.000000</td>\n",
       "      <td>0.000000</td>\n",
       "      <td>0.000000</td>\n",
       "      <td>0.000000</td>\n",
       "    </tr>\n",
       "    <tr>\n",
       "      <th>25%</th>\n",
       "      <td>9.000000e+05</td>\n",
       "      <td>0.000000</td>\n",
       "      <td>0.000000</td>\n",
       "      <td>0.000000</td>\n",
       "      <td>1.000000</td>\n",
       "      <td>1.000000</td>\n",
       "      <td>1.000000</td>\n",
       "    </tr>\n",
       "    <tr>\n",
       "      <th>50%</th>\n",
       "      <td>2.000000e+06</td>\n",
       "      <td>0.000000</td>\n",
       "      <td>0.000000</td>\n",
       "      <td>0.000000</td>\n",
       "      <td>3.000000</td>\n",
       "      <td>2.000000</td>\n",
       "      <td>3.000000</td>\n",
       "    </tr>\n",
       "    <tr>\n",
       "      <th>75%</th>\n",
       "      <td>4.500000e+06</td>\n",
       "      <td>0.000000</td>\n",
       "      <td>1.000000</td>\n",
       "      <td>0.000000</td>\n",
       "      <td>3.000000</td>\n",
       "      <td>3.000000</td>\n",
       "      <td>4.000000</td>\n",
       "    </tr>\n",
       "    <tr>\n",
       "      <th>max</th>\n",
       "      <td>1.700000e+12</td>\n",
       "      <td>1.000000</td>\n",
       "      <td>1.000000</td>\n",
       "      <td>1.000000</td>\n",
       "      <td>10.000000</td>\n",
       "      <td>10.000000</td>\n",
       "      <td>10.000000</td>\n",
       "    </tr>\n",
       "  </tbody>\n",
       "</table>\n",
       "</div>"
      ],
      "text/plain": [
       "              Price      Serviced   Newly Built     Furnished      Bedrooms  \\\n",
       "count  5.004500e+04  50045.000000  50045.000000  50045.000000  50045.000000   \n",
       "mean   4.413863e+07      0.213368      0.290898      0.118573      2.430393   \n",
       "std    7.602166e+09      0.409689      0.454181      0.323289      1.448520   \n",
       "min    1.000000e+00      0.000000      0.000000      0.000000      0.000000   \n",
       "25%    9.000000e+05      0.000000      0.000000      0.000000      1.000000   \n",
       "50%    2.000000e+06      0.000000      0.000000      0.000000      3.000000   \n",
       "75%    4.500000e+06      0.000000      1.000000      0.000000      3.000000   \n",
       "max    1.700000e+12      1.000000      1.000000      1.000000     10.000000   \n",
       "\n",
       "          Bathrooms       Toilets  \n",
       "count  50045.000000  50045.000000  \n",
       "mean       2.289220      2.707263  \n",
       "std        1.611444      1.891613  \n",
       "min        0.000000      0.000000  \n",
       "25%        1.000000      1.000000  \n",
       "50%        2.000000      3.000000  \n",
       "75%        3.000000      4.000000  \n",
       "max       10.000000     10.000000  "
      ]
     },
     "execution_count": 9,
     "metadata": {},
     "output_type": "execute_result"
    }
   ],
   "source": [
    "df.describe()"
   ]
  },
  {
   "cell_type": "markdown",
   "id": "84fb237b",
   "metadata": {},
   "source": [
    "#### Observations\n",
    "- The median rent price is 2 million naira.\n",
    "- There maximum rent price is over 17 billion naira(A bit unrealistic, given the context of lagos)\n",
    "- The minimum rent price on the other hand is one(1)naira, also very unrealistic\n",
    "- Houses have as many as 10bedrooms, and as little as no bedrooms at all, same can be seen for toilets and bathrooms.\n",
    "\n",
    "### 2.6 Handling outliers in the data set\n",
    "We will be taking out outlines in the numeric columns; Price,Bedrooms,Bathrooms and Toilets."
   ]
  },
  {
   "cell_type": "code",
   "execution_count": 10,
   "id": "a8bd1409",
   "metadata": {},
   "outputs": [
    {
     "data": {
      "image/png": "[encoded data removed]",
      "text/plain": [
       "<Figure size 1080x360 with 4 Axes>"
      ]
     },
     "metadata": {
      "needs_background": "light"
     },
     "output_type": "display_data"
    }
   ],
   "source": [
    "# Checking for outliers\n",
    "Numerical_columns = ['Price','Bedrooms','Bathrooms', 'Toilets']\n",
    "fig, axarr = plt.subplots(1, 4, figsize=(15, 5))\n",
    "n = 0\n",
    "\n",
    "for j in Numerical_columns:\n",
    "    ax = axarr[n]\n",
    "    sns.boxplot(y=df[j], color='orange', ax=ax)\n",
    "    ax.set_xlabel(j)\n",
    "    ax.set_ylabel(\"\")\n",
    "    n += 1\n",
    "\n",
    "plt.tight_layout()\n",
    "plt.show()"
   ]
  },
  {
   "cell_type": "markdown",
   "id": "351f7857",
   "metadata": {},
   "source": [
    "#### Observation\n",
    "The dataset contains a number of outliers in the price, bedrooms, bathroom and toilet column. To handle this, we will be using the Interquartile range formula(IQR)."
   ]
  },
  {
   "cell_type": "code",
   "execution_count": 11,
   "id": "37e1bb72",
   "metadata": {},
   "outputs": [],
   "source": [
    "#Defining a function to take out outliers\n",
    "def remove_outlier(data):\n",
    "    '''\n",
    "    This function returns the total outliers in a dataset column, and replaces the upper and lower outliers\n",
    "    using the Interquartile Range (IQR) Method.\n",
    "    data = df['columns']\n",
    "    '''\n",
    "    #calculationg the third quartile of the column\n",
    "    Q3 = data.quantile(0.75)\n",
    "    \n",
    "    #Calculating the First quartile of the column\n",
    "    Q1 = data.quantile(0.25)\n",
    "    \n",
    "    #Calculating the Interquartile range\n",
    "    IQR = Q3 - Q1\n",
    "    \n",
    "    # Identifying the lower outliers\n",
    "    lower_limit = round(Q1 - 1.5 * IQR)\n",
    "    \n",
    "    #Identifying the upper outliers\n",
    "    upper_limit = round(Q3 + 1.5 * IQR)\n",
    "    \n",
    "    #Replacing the lower outliers with the lower IQR value\n",
    "    data.loc[data> upper_limit] = upper_limit\n",
    "    \n",
    "    #Replacing the upper outliers with the lower IQR value\n",
    "    data.loc[data<lower_limit] = lower_limit\n",
    "    \n",
    "    return data"
   ]
  },
  {
   "cell_type": "code",
   "execution_count": 12,
   "id": "d706728c",
   "metadata": {},
   "outputs": [],
   "source": [
    "#Removing the outliers in each column\n",
    "df['Price'] = remove_outlier(df['Price'])\n",
    "df['Bedrooms'] = remove_outlier(df['Bedrooms'])\n",
    "df['Bathrooms'] = remove_outlier(df['Bathrooms'])\n",
    "df['Toilets'] = remove_outlier(df['Toilets'])"
   ]
  },
  {
   "cell_type": "code",
   "execution_count": 13,
   "id": "4ed1ee12",
   "metadata": {},
   "outputs": [
    {
     "data": {
      "image/png": "[encoded data removed]",
      "text/plain": [
       "<Figure size 1080x360 with 4 Axes>"
      ]
     },
     "metadata": {
      "needs_background": "light"
     },
     "output_type": "display_data"
    }
   ],
   "source": [
    "# Checking for outliers\n",
    "Numerical_columns = ['Price','Bedrooms','Bathrooms', 'Toilets']\n",
    "fig, axarr = plt.subplots(1, 4, figsize=(15, 5))\n",
    "n = 0\n",
    "\n",
    "for j in Numerical_columns:\n",
    "    ax = axarr[n]\n",
    "    sns.boxplot(y=df[j], color='orange', ax=ax)\n",
    "    ax.set_xlabel(j)\n",
    "    ax.set_ylabel(\"\")\n",
    "    n += 1\n",
    "\n",
    "plt.tight_layout()\n",
    "plt.show()"
   ]
  },
  {
   "cell_type": "markdown",
   "id": "099433d2",
   "metadata": {},
   "source": [
    "We have how succefull removed outliers from the columns. From the box plot displayed we can already get a view on the distribution of our data. For more clarity, we will plot a histogram."
   ]
  },
  {
   "cell_type": "code",
   "execution_count": 14,
   "id": "ff100ee2",
   "metadata": {},
   "outputs": [
    {
     "data": {
      "text/plain": [
       "array([[<AxesSubplot:title={'center':'Price'}>,\n",
       "        <AxesSubplot:title={'center':'Serviced'}>,\n",
       "        <AxesSubplot:title={'center':'Newly Built'}>],\n",
       "       [<AxesSubplot:title={'center':'Furnished'}>,\n",
       "        <AxesSubplot:title={'center':'Bedrooms'}>,\n",
       "        <AxesSubplot:title={'center':'Bathrooms'}>],\n",
       "       [<AxesSubplot:title={'center':'Toilets'}>, <AxesSubplot:>,\n",
       "        <AxesSubplot:>]], dtype=object)"
      ]
     },
     "execution_count": 14,
     "metadata": {},
     "output_type": "execute_result"
    },
    {
     "data": {
      "image/png": "[encoded data removed]",
      "text/plain": [
       "<Figure size 720x576 with 9 Axes>"
      ]
     },
     "metadata": {
      "needs_background": "light"
     },
     "output_type": "display_data"
    }
   ],
   "source": [
    "# Checking the distribution of our datasets\n",
    "df.hist(figsize =(10, 8))"
   ]
  },
  {
   "cell_type": "markdown",
   "id": "5d0c7b19",
   "metadata": {},
   "source": [
    "#### Observations:\n",
    "Our columns are mostly negatively skewed. However, more concerning is the price distribution. While we have handled outliers, it seems there are more loctions with very unrealistic prices. To ensure our data functions as expected, we would treat this.\n",
    "\n",
    "\n",
    "##### Cleaning the price column"
   ]
  },
  {
   "cell_type": "code",
   "execution_count": 15,
   "id": "da2f908e",
   "metadata": {},
   "outputs": [
    {
     "name": "stdout",
     "output_type": "stream",
     "text": [
      " The minimum cost for rent in the dataset is 1naira\n",
      " The maximum cost for rent in the dataset is 9900000naira\n"
     ]
    }
   ],
   "source": [
    "#Identifying the minimum price in the datasets\n",
    "min_price=df['Price'].min()\n",
    "max_price = df['Price'].max()\n",
    "print(f' The minimum cost for rent in the dataset is {min_price}naira')\n",
    "print(f' The maximum cost for rent in the dataset is {max_price}naira')"
   ]
  },
  {
   "cell_type": "markdown",
   "id": "a3c3f8da",
   "metadata": {},
   "source": [
    "It is unrealistic that the minimum cost of rent in lagos is below hundred thousand naira(100,000) per annum. Thus, we would be removing all rows with rent price lower than 100,000."
   ]
  },
  {
   "cell_type": "code",
   "execution_count": 16,
   "id": "889476cf",
   "metadata": {},
   "outputs": [
    {
     "data": {
      "text/html": [
       "<div>\n",
       "<style scoped>\n",
       "    .dataframe tbody tr th:only-of-type {\n",
       "        vertical-align: middle;\n",
       "    }\n",
       "\n",
       "    .dataframe tbody tr th {\n",
       "        vertical-align: top;\n",
       "    }\n",
       "\n",
       "    .dataframe thead th {\n",
       "        text-align: right;\n",
       "    }\n",
       "</style>\n",
       "<table border=\"1\" class=\"dataframe\">\n",
       "  <thead>\n",
       "    <tr style=\"text-align: right;\">\n",
       "      <th></th>\n",
       "      <th>Price</th>\n",
       "      <th>Serviced</th>\n",
       "      <th>Newly Built</th>\n",
       "      <th>Furnished</th>\n",
       "      <th>Bedrooms</th>\n",
       "      <th>Bathrooms</th>\n",
       "      <th>Toilets</th>\n",
       "      <th>City</th>\n",
       "      <th>Neighborhood</th>\n",
       "    </tr>\n",
       "  </thead>\n",
       "  <tbody>\n",
       "    <tr>\n",
       "      <th>0</th>\n",
       "      <td>5000000</td>\n",
       "      <td>0</td>\n",
       "      <td>1</td>\n",
       "      <td>0</td>\n",
       "      <td>4</td>\n",
       "      <td>4</td>\n",
       "      <td>5</td>\n",
       "      <td>Lekki</td>\n",
       "      <td>Agungi</td>\n",
       "    </tr>\n",
       "    <tr>\n",
       "      <th>1</th>\n",
       "      <td>5000000</td>\n",
       "      <td>0</td>\n",
       "      <td>1</td>\n",
       "      <td>0</td>\n",
       "      <td>4</td>\n",
       "      <td>4</td>\n",
       "      <td>5</td>\n",
       "      <td>Lekki</td>\n",
       "      <td>Other Lekki</td>\n",
       "    </tr>\n",
       "    <tr>\n",
       "      <th>2</th>\n",
       "      <td>3500000</td>\n",
       "      <td>1</td>\n",
       "      <td>0</td>\n",
       "      <td>0</td>\n",
       "      <td>2</td>\n",
       "      <td>3</td>\n",
       "      <td>3</td>\n",
       "      <td>Lekki</td>\n",
       "      <td>Osapa London</td>\n",
       "    </tr>\n",
       "    <tr>\n",
       "      <th>3</th>\n",
       "      <td>2700000</td>\n",
       "      <td>1</td>\n",
       "      <td>1</td>\n",
       "      <td>0</td>\n",
       "      <td>2</td>\n",
       "      <td>3</td>\n",
       "      <td>3</td>\n",
       "      <td>Lekki</td>\n",
       "      <td>Ologolo</td>\n",
       "    </tr>\n",
       "    <tr>\n",
       "      <th>4</th>\n",
       "      <td>4000000</td>\n",
       "      <td>1</td>\n",
       "      <td>0</td>\n",
       "      <td>0</td>\n",
       "      <td>4</td>\n",
       "      <td>5</td>\n",
       "      <td>5</td>\n",
       "      <td>Lekki</td>\n",
       "      <td>Chevron</td>\n",
       "    </tr>\n",
       "  </tbody>\n",
       "</table>\n",
       "</div>"
      ],
      "text/plain": [
       "     Price  Serviced  Newly Built  Furnished  Bedrooms  Bathrooms  Toilets  \\\n",
       "0  5000000         0            1          0         4          4        5   \n",
       "1  5000000         0            1          0         4          4        5   \n",
       "2  3500000         1            0          0         2          3        3   \n",
       "3  2700000         1            1          0         2          3        3   \n",
       "4  4000000         1            0          0         4          5        5   \n",
       "\n",
       "    City  Neighborhood  \n",
       "0  Lekki        Agungi  \n",
       "1  Lekki   Other Lekki  \n",
       "2  Lekki  Osapa London  \n",
       "3  Lekki       Ologolo  \n",
       "4  Lekki       Chevron  "
      ]
     },
     "execution_count": 16,
     "metadata": {},
     "output_type": "execute_result"
    }
   ],
   "source": [
    "#Taking out rows with unrealistic prices\n",
    "Too_cheap_price = df[(df['Price'] <100000)].index\n",
    "df = df.drop(Too_cheap_price, axis=0)\n",
    "df.head()"
   ]
  },
  {
   "cell_type": "code",
   "execution_count": 17,
   "id": "c019a3a6",
   "metadata": {},
   "outputs": [
    {
     "name": "stdout",
     "output_type": "stream",
     "text": [
      "<class 'pandas.core.frame.DataFrame'>\n",
      "Int64Index: 49835 entries, 0 to 53069\n",
      "Data columns (total 9 columns):\n",
      " #   Column        Non-Null Count  Dtype \n",
      "---  ------        --------------  ----- \n",
      " 0   Price         49835 non-null  int64 \n",
      " 1   Serviced      49835 non-null  int64 \n",
      " 2   Newly Built   49835 non-null  int64 \n",
      " 3   Furnished     49835 non-null  int64 \n",
      " 4   Bedrooms      49835 non-null  int64 \n",
      " 5   Bathrooms     49835 non-null  int64 \n",
      " 6   Toilets       49835 non-null  int64 \n",
      " 7   City          49835 non-null  object\n",
      " 8   Neighborhood  49835 non-null  object\n",
      "dtypes: int64(7), object(2)\n",
      "memory usage: 3.8+ MB\n"
     ]
    }
   ],
   "source": [
    "# Getting the overall information about our dataframe\n",
    "df.info()"
   ]
  },
  {
   "cell_type": "markdown",
   "id": "84499300",
   "metadata": {},
   "source": [
    "## 3.0 Exploratory Data Analysis(EDA)\n",
    "For the EDA analysis we will be looking at the following details:\n",
    "\n",
    "- The average cost of rent in major locations in Lagos\n",
    "- The cheapest locations in lagos\n",
    "- The most expensive locations in lagos\n",
    "- Average cost of rent in these locations(expensive and cheap)\n",
    "- The avarage cost of rent for one bedroom and 2 bedroom flats in these locations (This is a common ask for house seekers in Lagos).\n",
    "- The cost of furnished and unfurnished apartments in cheap and expensive locations.\n",
    "- The cost of serviced and unserviced appartments in cheap and expensive locations.\n",
    "- The cost of newly built house and old houses in the cheap and expensive locations in lagos.\n",
    "- Estimating the relationship between the variables in the data set\n",
    "\n",
    "**NB**: For futher analysis, we will be converting the serviced,furnished and newly built columns to object data types, this will enable us perform specific analysis, after which they'll be converted back to integres."
   ]
  },
  {
   "cell_type": "code",
   "execution_count": 18,
   "id": "eb216628",
   "metadata": {},
   "outputs": [
    {
     "name": "stdout",
     "output_type": "stream",
     "text": [
      "<class 'pandas.core.frame.DataFrame'>\n",
      "Int64Index: 49835 entries, 0 to 53069\n",
      "Data columns (total 9 columns):\n",
      " #   Column        Non-Null Count  Dtype \n",
      "---  ------        --------------  ----- \n",
      " 0   Price         49835 non-null  int64 \n",
      " 1   Serviced      49835 non-null  object\n",
      " 2   Newly Built   49835 non-null  object\n",
      " 3   Furnished     49835 non-null  object\n",
      " 4   Bedrooms      49835 non-null  int64 \n",
      " 5   Bathrooms     49835 non-null  int64 \n",
      " 6   Toilets       49835 non-null  int64 \n",
      " 7   City          49835 non-null  object\n",
      " 8   Neighborhood  49835 non-null  object\n",
      "dtypes: int64(4), object(5)\n",
      "memory usage: 3.8+ MB\n"
     ]
    }
   ],
   "source": [
    "# Changing the datatypes for the columns\n",
    "data_types = {\n",
    "    'Serviced': object,\n",
    "    'Newly Built': object,\n",
    "    'Furnished': object,\n",
    "}\n",
    "\n",
    "df= df.astype(data_types)\n",
    "df.info()"
   ]
  },
  {
   "cell_type": "markdown",
   "id": "e4a67a2d",
   "metadata": {},
   "source": [
    "### 3.1 Checking the average cost of rent in popular cities in Lagos"
   ]
  },
  {
   "cell_type": "code",
   "execution_count": 19,
   "id": "413118ac",
   "metadata": {},
   "outputs": [
    {
     "data": {
      "image/png": "[encoded data removed]",
      "text/plain": [
       "<Figure size 720x432 with 1 Axes>"
      ]
     },
     "metadata": {
      "needs_background": "light"
     },
     "output_type": "display_data"
    },
    {
     "data": {
      "text/html": [
       "<div>\n",
       "<style scoped>\n",
       "    .dataframe tbody tr th:only-of-type {\n",
       "        vertical-align: middle;\n",
       "    }\n",
       "\n",
       "    .dataframe tbody tr th {\n",
       "        vertical-align: top;\n",
       "    }\n",
       "\n",
       "    .dataframe thead th {\n",
       "        text-align: right;\n",
       "    }\n",
       "</style>\n",
       "<table border=\"1\" class=\"dataframe\">\n",
       "  <thead>\n",
       "    <tr style=\"text-align: right;\">\n",
       "      <th></th>\n",
       "      <th>City</th>\n",
       "      <th>Price</th>\n",
       "    </tr>\n",
       "  </thead>\n",
       "  <tbody>\n",
       "    <tr>\n",
       "      <th>0</th>\n",
       "      <td>Ikoyi</td>\n",
       "      <td>8515993.33</td>\n",
       "    </tr>\n",
       "    <tr>\n",
       "      <th>1</th>\n",
       "      <td>Island</td>\n",
       "      <td>6143740.96</td>\n",
       "    </tr>\n",
       "    <tr>\n",
       "      <th>2</th>\n",
       "      <td>Lekki</td>\n",
       "      <td>3744023.02</td>\n",
       "    </tr>\n",
       "    <tr>\n",
       "      <th>3</th>\n",
       "      <td>Ikeja</td>\n",
       "      <td>3337592.71</td>\n",
       "    </tr>\n",
       "    <tr>\n",
       "      <th>4</th>\n",
       "      <td>Ojodu</td>\n",
       "      <td>1516381.60</td>\n",
       "    </tr>\n",
       "    <tr>\n",
       "      <th>5</th>\n",
       "      <td>Gbagada</td>\n",
       "      <td>1469251.67</td>\n",
       "    </tr>\n",
       "    <tr>\n",
       "      <th>6</th>\n",
       "      <td>Ajah</td>\n",
       "      <td>1460953.08</td>\n",
       "    </tr>\n",
       "    <tr>\n",
       "      <th>7</th>\n",
       "      <td>Surulere</td>\n",
       "      <td>1219872.47</td>\n",
       "    </tr>\n",
       "    <tr>\n",
       "      <th>8</th>\n",
       "      <td>Yaba</td>\n",
       "      <td>1105711.95</td>\n",
       "    </tr>\n",
       "  </tbody>\n",
       "</table>\n",
       "</div>"
      ],
      "text/plain": [
       "       City       Price\n",
       "0     Ikoyi  8515993.33\n",
       "1    Island  6143740.96\n",
       "2     Lekki  3744023.02\n",
       "3     Ikeja  3337592.71\n",
       "4     Ojodu  1516381.60\n",
       "5   Gbagada  1469251.67\n",
       "6      Ajah  1460953.08\n",
       "7  Surulere  1219872.47\n",
       "8      Yaba  1105711.95"
      ]
     },
     "execution_count": 19,
     "metadata": {},
     "output_type": "execute_result"
    }
   ],
   "source": [
    "# Grouping the cities by the average prices\n",
    "cities = df.groupby('City')['Price'].mean().round(2).sort_values(ascending= False).reset_index()\n",
    "\n",
    "#Visualizing the cities\n",
    "plt.figure(figsize=(10, 6))\n",
    "sns.barplot(x='City', y='Price', data= cities, color='Orange')\n",
    "\n",
    "# Customize the plot\n",
    "plt.xlabel('Cities')\n",
    "plt.ylabel('Prices')\n",
    "plt.title('Average cost of rent in various cities in lagos')\n",
    "\n",
    "\n",
    "# Show the plot\n",
    "plt.show()\n",
    "cities"
   ]
  },
  {
   "cell_type": "markdown",
   "id": "14bdba59",
   "metadata": {},
   "source": [
    "#### Observations:\n",
    "The plot shows clearly that locations like Ikoyi, Island,Lekki and Ikeja are are more expensive locations in lagos in terms of rent prices. The most expensive location is Ikoyi, with an average of about 8.5 million naira for annual rent, while yaba seems to be be the cheapest location, and has an average rent cost of about 1.5 million naira, over 7 million difference from the most expensive location.\n",
    "\n",
    "To get better insight from the analysis, we will be spliting the locations into cheap and expensive locations. From the plot, we can easily create this divide. Thus, **Cheap locations** in the dataset will include Ojodu cities, Gbagada, Ajah, Surulere and Yaba. **Expensive locations** will include Ikoyi, Island, Lekki and Ikeja.\n",
    "\n",
    "### 3.2 Cheapest Locations in Lagos"
   ]
  },
  {
   "cell_type": "code",
   "execution_count": 20,
   "id": "02313151",
   "metadata": {},
   "outputs": [
    {
     "name": "stdout",
     "output_type": "stream",
     "text": [
      "The average cost of rent in cheap locations is: Price    1359512.17\n",
      "dtype: float64\n",
      "Top 10 cheapest location in Lagos are: \n",
      "         Neighborhood   Price\n",
      "46971      Other Ajah  120000\n",
      "38515           Aguda  120000\n",
      "38470  Other Surulere  120000\n",
      "43537      Other Ajah  120000\n",
      "38366           Aguda  120000\n",
      "52889           Onike  108000\n",
      "52024           Akoka  100000\n",
      "34895           Ifako  100000\n",
      "50779           Akoka  100000\n",
      "52023           Akoka  100000\n"
     ]
    }
   ],
   "source": [
    "# Isolating the cheap cities in the dataset\n",
    "cheap_houses = df[df['City'].str.contains('Ojodu|Gbagada|Ajah|Surulere|Yaba', case=False)]\n",
    "\n",
    "#Ranking the locations by rent prices\n",
    "cheap_locations = cheap_houses.sort_values(by='Price', ascending=False)[['Neighborhood', 'Price']]\n",
    "\n",
    "print(f'The average cost of rent in cheap locations is: {cheap_locations.mean().round(2)}')\n",
    "print(f'Top 10 cheapest location in Lagos are: \\n{cheap_locations.tail(10)}')"
   ]
  },
  {
   "cell_type": "markdown",
   "id": "902924ee",
   "metadata": {},
   "source": [
    "##### Vizualizing the Data"
   ]
  },
  {
   "cell_type": "code",
   "execution_count": 21,
   "id": "8c904348",
   "metadata": {},
   "outputs": [
    {
     "data": {
      "image/png": "[encoded data removed]",
      "text/plain": [
       "<Figure size 720x432 with 1 Axes>"
      ]
     },
     "metadata": {
      "needs_background": "light"
     },
     "output_type": "display_data"
    }
   ],
   "source": [
    "# Getting the locations with the cheapest rent prices\n",
    "top_10_cheapest = cheap_locations.tail(10)\n",
    "\n",
    "# Ploting a barchart to vizualize the data\n",
    "plt.figure(figsize=(10, 6))\n",
    "sns.barplot(x='Price', y='Neighborhood', data=top_10_cheapest, color='lightblue')\n",
    "\n",
    "# Customize the plot\n",
    "plt.xlabel('Prices')\n",
    "plt.ylabel('Locations')\n",
    "plt.title('Cheapest Locations in Lagos')\n",
    "\n",
    "# Show the plot\n",
    "plt.show()\n"
   ]
  },
  {
   "cell_type": "markdown",
   "id": "805340b1",
   "metadata": {},
   "source": [
    "#### Observation:\n",
    "- From the data we can see that the average cost of rent in cheap location is about 1.3 million naira\n",
    "- The cheapest locations in lagos include cities like ifako, akoka, some parts of surulere, and some parts of Ajah\n",
    "\n",
    "\n",
    "### 3.3 Expensive Locations in Lagos\n",
    "As mentioned earlier, expensive locations will include Ikoyi,Island, Ikeja, and Lekki"
   ]
  },
  {
   "cell_type": "code",
   "execution_count": 22,
   "id": "d0d95576",
   "metadata": {},
   "outputs": [
    {
     "name": "stdout",
     "output_type": "stream",
     "text": [
      "The average cost of rent in Expensive locations is: Price    4600407.8\n",
      "dtype: float64\n",
      "The most expensive locations in Lagos are: \n",
      "         Neighborhood    Price\n",
      "20960      Old Ikoyi  9900000\n",
      "20738    Other Ikoyi  9900000\n",
      "20740  Banana Island  9900000\n",
      "20741  Banana Island  9900000\n",
      "20742  Banana Island  9900000\n",
      "4636   Lekki Phase 1  9900000\n",
      "4635   Lekki Phase 1  9900000\n",
      "20743      Old Ikoyi  9900000\n",
      "20746  Banana Island  9900000\n",
      "4625   Lekki Phase 1  9900000\n"
     ]
    }
   ],
   "source": [
    "# Isolating expensive locations in the dataset\n",
    "Expensive_houses = df[df['City'].str.contains('Ikoyi|Island|Lekki|Ikeja', case=False)]\n",
    "\n",
    "# Ranking the locations by the average price\n",
    "Expensive_locations = Expensive_houses.sort_values(by='Price', ascending=False)[['Neighborhood', 'Price']]\n",
    "\n",
    "# Printing out the values\n",
    "print(f'The average cost of rent in Expensive locations is: {Expensive_locations.mean().round(2)}')\n",
    "print(f'The most expensive locations in Lagos are: \\n {Expensive_locations.head(10)}')"
   ]
  },
  {
   "cell_type": "markdown",
   "id": "3cb116f7",
   "metadata": {},
   "source": [
    "##### Vizualizing the data"
   ]
  },
  {
   "cell_type": "code",
   "execution_count": 23,
   "id": "a2f16886",
   "metadata": {},
   "outputs": [
    {
     "data": {
      "image/png": "[encoded data removed]",
      "text/plain": [
       "<Figure size 720x432 with 1 Axes>"
      ]
     },
     "metadata": {
      "needs_background": "light"
     },
     "output_type": "display_data"
    }
   ],
   "source": [
    "# Getting the locations with the most expensive rent prices\n",
    "exp_10_cheapest = Expensive_locations.head(10)\n",
    "\n",
    "# Plotting a bar chart to vizualize the data \n",
    "plt.figure(figsize=(10, 6))\n",
    "sns.barplot(x='Price', y='Neighborhood', data=exp_10_cheapest, color='lightblue')\n",
    "\n",
    "# Customize the plot\n",
    "plt.xlabel('Prices')\n",
    "plt.ylabel('Locations')\n",
    "plt.title('Cheapest Houses by Location')\n",
    "\n",
    "# Show the plot\n",
    "plt.show()\n"
   ]
  },
  {
   "cell_type": "markdown",
   "id": "dc95f492",
   "metadata": {},
   "source": [
    "#### Observations:\n",
    "- The average cost of houses in expensive areas in lagos is about 4.6 million naira\n",
    "- The most expensive locations in Lagos are old ikoyi, Banana Island, and Lekki phase 1. \n",
    "\n",
    "\n",
    "\n",
    "### 3.4 The Avarage Cost of Rent for One Bedroom and 2 Bedroom flats in These Locations\n",
    "\n",
    "A very common ask by people looking for houses are cost of 1 bed room and 2 bed room apartments. So, to provide a good insight, we wil find the average cost of single bedroom or a two bedroom apartment in the cheap and expensive areas. This should easily give you an insight on how much to put aside when considering houses in these areas."
   ]
  },
  {
   "cell_type": "code",
   "execution_count": 24,
   "id": "823beb1d",
   "metadata": {},
   "outputs": [
    {
     "name": "stdout",
     "output_type": "stream",
     "text": [
      "In cheap locations,the average cost of One bedroom apartments is 590249.41, and 1179381.83 for two bedroom\n",
      "While in expensive locations, the average cost of rent for One bedroom is 1372837.63, and two bedroom flats cost \n",
      "3325932.02\n"
     ]
    }
   ],
   "source": [
    "# Checking for the average cost of rent for 1 and 2 bedroom flats\n",
    "\n",
    "#CHEAP LOCATIONS\n",
    "\n",
    "# Filtering the data to select just 1 and 2 bedroom flats in cheap locations\n",
    "Selected_bedrooms= cheap_houses[(cheap_houses['Bedrooms'] == 1) | (cheap_houses['Bedrooms'] == 2)]\n",
    "\n",
    "# Grouping the cheap locations by the number of bedrooms, to identify the mean price\n",
    "Selected_bedrooms = Selected_bedrooms.groupby('Bedrooms')['Price'].mean().round(2)\n",
    "\n",
    "# EXPENSIVE LOCATIONS\n",
    "\n",
    "#Filtering the data to select just 1 and 2 bedroom flats in expensive locations\n",
    "sel_bedrooms= Expensive_houses[(Expensive_houses['Bedrooms']== 1) | (Expensive_houses['Bedrooms'] == 2)]\n",
    "\n",
    "# Grouping the expensive locations by the number of bedrooms, to identify the mean price\n",
    "sel_bedrooms= sel_bedrooms.groupby('Bedrooms')['Price'].mean().round(2)\n",
    "\n",
    "#Putting our result in a table\n",
    "print(f'In cheap locations,the average cost of One bedroom apartments is {Selected_bedrooms[1]}, and {Selected_bedrooms[2]} for two bedroom')\n",
    "print(f'While in expensive locations, the average cost of rent for One bedroom is {sel_bedrooms[1]}, and two bedroom flats cost \\n{sel_bedrooms[2]}')"
   ]
  },
  {
   "cell_type": "markdown",
   "id": "982e2304",
   "metadata": {},
   "source": [
    "### 3.5 The Average Cost of Rent for Furnished and Unfurnished Apartments\n",
    "\n",
    "Here we will calculate the average cost of rent for furnished and unfurnished apartment in both cheap and expensive locations."
   ]
  },
  {
   "cell_type": "code",
   "execution_count": 25,
   "id": "0aa3f484",
   "metadata": {},
   "outputs": [
    {
     "data": {
      "text/html": [
       "<div>\n",
       "<style scoped>\n",
       "    .dataframe tbody tr th:only-of-type {\n",
       "        vertical-align: middle;\n",
       "    }\n",
       "\n",
       "    .dataframe tbody tr th {\n",
       "        vertical-align: top;\n",
       "    }\n",
       "\n",
       "    .dataframe thead th {\n",
       "        text-align: right;\n",
       "    }\n",
       "</style>\n",
       "<table border=\"1\" class=\"dataframe\">\n",
       "  <thead>\n",
       "    <tr style=\"text-align: right;\">\n",
       "      <th>Furnished</th>\n",
       "      <th>Unfurnished</th>\n",
       "      <th>Furnished</th>\n",
       "    </tr>\n",
       "  </thead>\n",
       "  <tbody>\n",
       "    <tr>\n",
       "      <th>Cheap_location</th>\n",
       "      <td>1363886.0</td>\n",
       "      <td>1333058.0</td>\n",
       "    </tr>\n",
       "    <tr>\n",
       "      <th>Expensive_location</th>\n",
       "      <td>4574472.0</td>\n",
       "      <td>4836535.0</td>\n",
       "    </tr>\n",
       "  </tbody>\n",
       "</table>\n",
       "</div>"
      ],
      "text/plain": [
       "Furnished           Unfurnished  Furnished\n",
       "Cheap_location        1363886.0  1333058.0\n",
       "Expensive_location    4574472.0  4836535.0"
      ]
     },
     "execution_count": 25,
     "metadata": {},
     "output_type": "execute_result"
    }
   ],
   "source": [
    "# Grouping cheap locations by the furnished columns\n",
    "cheap_furnished_data = cheap_houses.groupby('Furnished')['Price'].mean().round().rename({0: 'Unfurnished', 1: 'Furnished'})\n",
    "\n",
    "# Grouping expensive locations by the furnished columns\n",
    "exp_furnished_data = Expensive_houses.groupby('Furnished')['Price'].mean().round().rename({0: 'Unfurnished', 1: 'Furnished'})\n",
    "\n",
    "# Concatinating the grouped locations\n",
    "data1 = pd.concat([cheap_furnished_data, exp_furnished_data], axis=1)\n",
    "\n",
    "# Defining the column title for the new table\n",
    "data1.columns = ['Cheap_location', 'Expensive_location']\n",
    "\n",
    "# Converting the data into a dataframe\n",
    "data = pd.DataFrame(data1)\n",
    "\n",
    "# Transposing the dataframe\n",
    "data = data.transpose()\n",
    "data"
   ]
  },
  {
   "cell_type": "markdown",
   "id": "b4277206",
   "metadata": {},
   "source": [
    "##### vizualizing the data"
   ]
  },
  {
   "cell_type": "code",
   "execution_count": 26,
   "id": "912a9bf3",
   "metadata": {},
   "outputs": [
    {
     "data": {
      "text/plain": [
       "<matplotlib.legend.Legend at 0x7ff4125d6400>"
      ]
     },
     "execution_count": 26,
     "metadata": {},
     "output_type": "execute_result"
    },
    {
     "data": {
      "image/png": "[encoded data removed]",
      "text/plain": [
       "<Figure size 720x432 with 1 Axes>"
      ]
     },
     "metadata": {
      "needs_background": "light"
     },
     "output_type": "display_data"
    }
   ],
   "source": [
    "# Get the unique categories (furnished and unfurnished)\n",
    "categories = cheap_furnished_data.index\n",
    "\n",
    "plt.figure(figsize=(10, 6))\n",
    "\n",
    "# Set the width of the bars\n",
    "bar_width = 0.35\n",
    "\n",
    "# Calculate the x positions for the bars\n",
    "x1 = range(len(categories))\n",
    "x2 = [x + bar_width for x in x1]\n",
    "\n",
    "# Generate the bar plots\n",
    "plt.subplot()\n",
    "plt.bar(x1, cheap_furnished_data, width=bar_width, label='Cheap locations', color='blue')\n",
    "plt.bar(x2, exp_furnished_data, width=bar_width, label='Expensive locations', color='orange')\n",
    "\n",
    "# Annotate the bars with their values\n",
    "for x, y in zip(x1, cheap_furnished_data):\n",
    "    plt.text(x, y, str(y), ha='center', va='bottom', color='black')\n",
    "\n",
    "for x, y in zip(x2, exp_furnished_data):\n",
    "    plt.text(x, y, str(y), ha='center', va='bottom', color='black')\n",
    "\n",
    "\n",
    "# Customize the plot\n",
    "plt.xlabel('')\n",
    "plt.ylabel('Average Price')\n",
    "plt.title('Average Price of Furnished vs. Unfurnished Houses')\n",
    "plt.xticks([x + bar_width / 2 for x in x1], categories)\n",
    "plt.legend(bbox_to_anchor=(1, 1))"
   ]
  },
  {
   "cell_type": "markdown",
   "id": "373d98fd",
   "metadata": {},
   "source": [
    "#### Observation:\n",
    "* The plot shows that in cheap locations, unfurnished housed cost about similar cost with furnished apartments(costing about 1.3 million naira). Interestingly, average cost for unfurnished apartments is slighlty higher than that of the furnished apartment(about 30,828 difference).\n",
    "\n",
    "* In expensive locations,furnished appartments cost around 4.8million naira, while unfurnished apartments cost about 4.5million naira. \n",
    "\n",
    "* Also, furnished apartments cost about 200 thousand naira more than the general a verage cost of rent in expensive locations, which is about 4.6 million naira.\n",
    "\n",
    "\n",
    "### 3.6 The Average Cost of Rent for Serviced and Unserviced Apartments"
   ]
  },
  {
   "cell_type": "code",
   "execution_count": 27,
   "id": "4e7ce130",
   "metadata": {},
   "outputs": [
    {
     "data": {
      "text/html": [
       "<div>\n",
       "<style scoped>\n",
       "    .dataframe tbody tr th:only-of-type {\n",
       "        vertical-align: middle;\n",
       "    }\n",
       "\n",
       "    .dataframe tbody tr th {\n",
       "        vertical-align: top;\n",
       "    }\n",
       "\n",
       "    .dataframe thead th {\n",
       "        text-align: right;\n",
       "    }\n",
       "</style>\n",
       "<table border=\"1\" class=\"dataframe\">\n",
       "  <thead>\n",
       "    <tr style=\"text-align: right;\">\n",
       "      <th>Serviced</th>\n",
       "      <th>Unserviced</th>\n",
       "      <th>Serviced</th>\n",
       "    </tr>\n",
       "  </thead>\n",
       "  <tbody>\n",
       "    <tr>\n",
       "      <th>Cheap_location</th>\n",
       "      <td>1342099.0</td>\n",
       "      <td>1559516.0</td>\n",
       "    </tr>\n",
       "    <tr>\n",
       "      <th>Expensive_location</th>\n",
       "      <td>4249979.0</td>\n",
       "      <td>5346581.0</td>\n",
       "    </tr>\n",
       "  </tbody>\n",
       "</table>\n",
       "</div>"
      ],
      "text/plain": [
       "Serviced            Unserviced   Serviced\n",
       "Cheap_location       1342099.0  1559516.0\n",
       "Expensive_location   4249979.0  5346581.0"
      ]
     },
     "execution_count": 27,
     "metadata": {},
     "output_type": "execute_result"
    }
   ],
   "source": [
    "# Grouping the cheap location by the serviced column\n",
    "cheap_serviced_data = cheap_houses.groupby('Serviced')['Price'].mean().round().rename({0: 'Unserviced', 1: 'Serviced'})\n",
    "\n",
    "#Grouping the expensive location by the serviced column\n",
    "exp_serviced_data = Expensive_houses.groupby('Serviced')['Price'].mean().round().rename({0: 'Unserviced', 1: 'Serviced'})\n",
    "\n",
    "# Combining the data into a single table\n",
    "serviced = pd.concat([cheap_serviced_data, exp_serviced_data], axis=1)\n",
    "\n",
    "# Defining the column titles for the table\n",
    "serviced.columns = ['Cheap_location', 'Expensive_location']\n",
    "\n",
    "# Converting the table to a pandas dataframe\n",
    "serviced = pd.DataFrame(serviced)\n",
    "\n",
    "# Transposing the table\n",
    "serviced = serviced.transpose()\n",
    "serviced"
   ]
  },
  {
   "cell_type": "markdown",
   "id": "723d6b51",
   "metadata": {},
   "source": [
    "##### vizualizing the data"
   ]
  },
  {
   "cell_type": "code",
   "execution_count": 28,
   "id": "45604205",
   "metadata": {},
   "outputs": [
    {
     "data": {
      "text/plain": [
       "<matplotlib.legend.Legend at 0x7ff40f5c16a0>"
      ]
     },
     "execution_count": 28,
     "metadata": {},
     "output_type": "execute_result"
    },
    {
     "data": {
      "image/png": "[encoded data removed]",
      "text/plain": [
       "<Figure size 720x432 with 1 Axes>"
      ]
     },
     "metadata": {
      "needs_background": "light"
     },
     "output_type": "display_data"
    }
   ],
   "source": [
    "# Get the unique categories (serviced and unserviced)\n",
    "categories = cheap_serviced_data.index\n",
    "\n",
    "plt.figure(figsize=(10, 6))\n",
    "\n",
    "# Set the width of the bars\n",
    "bar_width = 0.35\n",
    "\n",
    "# Calculate the x positions for the bars\n",
    "x1 = range(len(categories))\n",
    "x2 = [x + bar_width for x in x1]\n",
    "\n",
    "\n",
    "# Generate the bar plots\n",
    "plt.bar(x1, cheap_serviced_data, width=bar_width, label='Cheap locations', color='blue')\n",
    "plt.bar(x2, exp_serviced_data, width=bar_width, label='Expensive locations', color='orange')\n",
    "\n",
    "# Annotate the bars with their values\n",
    "for x, y in zip(x1, cheap_serviced_data):\n",
    "    plt.text(x, y, str(y), ha='center', va='bottom', color='black')\n",
    "\n",
    "for x, y in zip(x2, exp_serviced_data):\n",
    "    plt.text(x, y, str(y), ha='center', va='bottom', color='black')\n",
    "\n",
    "\n",
    "# Customize the plot\n",
    "plt.xlabel('')\n",
    "plt.ylabel('Average Price')\n",
    "plt.title('Average Price of Serviced vs. Unserviced Apartments')\n",
    "plt.xticks([x + bar_width / 2 for x in x1], categories)\n",
    "plt.legend(bbox_to_anchor=(1, 1))"
   ]
  },
  {
   "cell_type": "markdown",
   "id": "2e95c9ff",
   "metadata": {},
   "source": [
    "#### Observation\n",
    "* Serviced apartments in cheap location cost about 1.5million naira on average, while unserviced appartments cost about 1.3 million naira. Also, the average cost for serviced apartments in lagos is about 200,000 more expensive than the overall average cost of rent in cheap locations, which is also about 1.3 million naira.\n",
    "\n",
    "* Serviced apartments in expensive areas cost about 5.3 million naira on average, while unserviced location cost about 4.2 million. Serviced apartments in these areas is about 700,000 naira more than the average cost of rent in this location in general, which is about 4.6 million naira|\n",
    "\n",
    "### 3.7 The Average Cost of Rent for Newly built and Old Apartments"
   ]
  },
  {
   "cell_type": "code",
   "execution_count": 29,
   "id": "d34c784b",
   "metadata": {},
   "outputs": [
    {
     "data": {
      "text/html": [
       "<div>\n",
       "<style scoped>\n",
       "    .dataframe tbody tr th:only-of-type {\n",
       "        vertical-align: middle;\n",
       "    }\n",
       "\n",
       "    .dataframe tbody tr th {\n",
       "        vertical-align: top;\n",
       "    }\n",
       "\n",
       "    .dataframe thead th {\n",
       "        text-align: right;\n",
       "    }\n",
       "</style>\n",
       "<table border=\"1\" class=\"dataframe\">\n",
       "  <thead>\n",
       "    <tr style=\"text-align: right;\">\n",
       "      <th>Newly Built</th>\n",
       "      <th>Old house</th>\n",
       "      <th>Newly Built</th>\n",
       "    </tr>\n",
       "  </thead>\n",
       "  <tbody>\n",
       "    <tr>\n",
       "      <th>Cheap_location</th>\n",
       "      <td>1300213.0</td>\n",
       "      <td>1497433.0</td>\n",
       "    </tr>\n",
       "    <tr>\n",
       "      <th>Expensive_location</th>\n",
       "      <td>4480753.0</td>\n",
       "      <td>4902791.0</td>\n",
       "    </tr>\n",
       "  </tbody>\n",
       "</table>\n",
       "</div>"
      ],
      "text/plain": [
       "Newly Built         Old house  Newly Built\n",
       "Cheap_location      1300213.0    1497433.0\n",
       "Expensive_location  4480753.0    4902791.0"
      ]
     },
     "execution_count": 29,
     "metadata": {},
     "output_type": "execute_result"
    }
   ],
   "source": [
    "# Grouping the cheap locations by the Newly Built column\n",
    "cheap_new_house = cheap_houses.groupby('Newly Built')['Price'].mean().round().rename({0: 'Old house', 1: 'Newly Built'})\n",
    "\n",
    "#Grouping expensive locations by the Newly Buily Column\n",
    "exp_new_house = Expensive_houses.groupby('Newly Built')['Price'].mean().round().rename({0: 'Old house', 1: 'Newly Built'})\n",
    "\n",
    "# Concatinating the tables\n",
    "newly_built = pd.concat([cheap_new_house, exp_new_house], axis=1)\n",
    "\n",
    "# Defining the column title for the table\n",
    "newly_built.columns = ['Cheap_location', 'Expensive_location']\n",
    "\n",
    "# Converting the table to a pandas dataframe\n",
    "newly_built = pd.DataFrame(newly_built)\n",
    "\n",
    "# Transposing the table\n",
    "newly_built= newly_built.transpose()\n",
    "newly_built"
   ]
  },
  {
   "cell_type": "markdown",
   "id": "d5ec2fa7",
   "metadata": {},
   "source": [
    "##### Vizualizing the data"
   ]
  },
  {
   "cell_type": "code",
   "execution_count": 30,
   "id": "87709830",
   "metadata": {},
   "outputs": [
    {
     "data": {
      "text/plain": [
       "<matplotlib.legend.Legend at 0x7ff4105c5430>"
      ]
     },
     "execution_count": 30,
     "metadata": {},
     "output_type": "execute_result"
    },
    {
     "data": {
      "image/png": "[encoded data removed]",
      "text/plain": [
       "<Figure size 720x432 with 1 Axes>"
      ]
     },
     "metadata": {
      "needs_background": "light"
     },
     "output_type": "display_data"
    }
   ],
   "source": [
    "# Get the unique categories (No and Yes)\n",
    "categories = cheap_new_house.index\n",
    "\n",
    "plt.figure(figsize=(10, 6))\n",
    "\n",
    "# Set the width of the bars\n",
    "bar_width = 0.35\n",
    "\n",
    "# Calculate the x positions for the bars\n",
    "x1 = range(len(categories))\n",
    "x2 = [x + bar_width for x in x1]\n",
    "\n",
    "\n",
    "# Generate the bar plots\n",
    "plt.bar(x1, cheap_new_house, width=bar_width, label='Cheap location', color='blue')\n",
    "plt.bar(x2, exp_new_house, width=bar_width, label='Expensive location', color='orange')\n",
    "\n",
    "# Annotate the bars with their values\n",
    "for x, y in zip(x1, cheap_new_house):\n",
    "    plt.text(x, y, str(y), ha='center', va='bottom', color='black')\n",
    "\n",
    "for x, y in zip(x2, exp_new_house):\n",
    "    plt.text(x, y, str(y), ha='center', va='bottom', color='black')\n",
    "\n",
    "\n",
    "# Customize the plot\n",
    "plt.xlabel('')\n",
    "plt.ylabel('Average Price')\n",
    "plt.title('Average Price of New vs. Old Apartments')\n",
    "plt.xticks([x + bar_width / 2 for x in x1], categories)\n",
    "plt.legend(bbox_to_anchor=(1, 1))"
   ]
  },
  {
   "cell_type": "markdown",
   "id": "6a9db813",
   "metadata": {},
   "source": [
    "#### Observation\n",
    "* The average cost for old houses in cheap location cost is about 1.3 million naira, and newly built houses cost about 1.4 million naira, which is 100,000 naira more than the overall average cost of houses in these areas, which is also about 1.3million naira.\n",
    "\n",
    "* In expensive areas, old houses cost about 4.4 million naira on average, and newly built houses cost about 4.9 million naira, which is about 200,000 naira more than the average cost of houses in these areas.\n",
    "\n",
    "\n",
    "We are now concluded with our EDA analysis. To continue with our model, we will be converting the Serviced, Newly Built, and Furnished columns back to integr data type, examining the relationship between all the variables in the dataset, and saving out cleaned data."
   ]
  },
  {
   "cell_type": "code",
   "execution_count": 31,
   "id": "9cee864a",
   "metadata": {},
   "outputs": [
    {
     "data": {
      "text/html": [
       "<div>\n",
       "<style scoped>\n",
       "    .dataframe tbody tr th:only-of-type {\n",
       "        vertical-align: middle;\n",
       "    }\n",
       "\n",
       "    .dataframe tbody tr th {\n",
       "        vertical-align: top;\n",
       "    }\n",
       "\n",
       "    .dataframe thead th {\n",
       "        text-align: right;\n",
       "    }\n",
       "</style>\n",
       "<table border=\"1\" class=\"dataframe\">\n",
       "  <thead>\n",
       "    <tr style=\"text-align: right;\">\n",
       "      <th></th>\n",
       "      <th>Price</th>\n",
       "      <th>Serviced</th>\n",
       "      <th>Newly Built</th>\n",
       "      <th>Furnished</th>\n",
       "      <th>Bedrooms</th>\n",
       "      <th>Bathrooms</th>\n",
       "      <th>Toilets</th>\n",
       "      <th>Neighborhood</th>\n",
       "    </tr>\n",
       "  </thead>\n",
       "  <tbody>\n",
       "    <tr>\n",
       "      <th>0</th>\n",
       "      <td>5000000</td>\n",
       "      <td>0</td>\n",
       "      <td>1</td>\n",
       "      <td>0</td>\n",
       "      <td>4</td>\n",
       "      <td>4</td>\n",
       "      <td>5</td>\n",
       "      <td>Agungi</td>\n",
       "    </tr>\n",
       "    <tr>\n",
       "      <th>1</th>\n",
       "      <td>5000000</td>\n",
       "      <td>0</td>\n",
       "      <td>1</td>\n",
       "      <td>0</td>\n",
       "      <td>4</td>\n",
       "      <td>4</td>\n",
       "      <td>5</td>\n",
       "      <td>Other Lekki</td>\n",
       "    </tr>\n",
       "    <tr>\n",
       "      <th>2</th>\n",
       "      <td>3500000</td>\n",
       "      <td>1</td>\n",
       "      <td>0</td>\n",
       "      <td>0</td>\n",
       "      <td>2</td>\n",
       "      <td>3</td>\n",
       "      <td>3</td>\n",
       "      <td>Osapa London</td>\n",
       "    </tr>\n",
       "    <tr>\n",
       "      <th>3</th>\n",
       "      <td>2700000</td>\n",
       "      <td>1</td>\n",
       "      <td>1</td>\n",
       "      <td>0</td>\n",
       "      <td>2</td>\n",
       "      <td>3</td>\n",
       "      <td>3</td>\n",
       "      <td>Ologolo</td>\n",
       "    </tr>\n",
       "    <tr>\n",
       "      <th>4</th>\n",
       "      <td>4000000</td>\n",
       "      <td>1</td>\n",
       "      <td>0</td>\n",
       "      <td>0</td>\n",
       "      <td>4</td>\n",
       "      <td>5</td>\n",
       "      <td>5</td>\n",
       "      <td>Chevron</td>\n",
       "    </tr>\n",
       "  </tbody>\n",
       "</table>\n",
       "</div>"
      ],
      "text/plain": [
       "     Price  Serviced  Newly Built  Furnished  Bedrooms  Bathrooms  Toilets  \\\n",
       "0  5000000         0            1          0         4          4        5   \n",
       "1  5000000         0            1          0         4          4        5   \n",
       "2  3500000         1            0          0         2          3        3   \n",
       "3  2700000         1            1          0         2          3        3   \n",
       "4  4000000         1            0          0         4          5        5   \n",
       "\n",
       "   Neighborhood  \n",
       "0        Agungi  \n",
       "1   Other Lekki  \n",
       "2  Osapa London  \n",
       "3       Ologolo  \n",
       "4       Chevron  "
      ]
     },
     "execution_count": 31,
     "metadata": {},
     "output_type": "execute_result"
    }
   ],
   "source": [
    "#Removing the city column\n",
    "df = df.drop(['City'], axis=1)\n",
    "\n",
    "# Changing the data type of the Serviced, Newly Built, and Furnished columns\n",
    "data_types = {\n",
    "    'Serviced': int,\n",
    "    'Newly Built': int,\n",
    "    'Furnished': int,\n",
    "}\n",
    "\n",
    "df= df.astype(data_types)\n",
    "df.head(5)"
   ]
  },
  {
   "cell_type": "markdown",
   "id": "2f30947d",
   "metadata": {},
   "source": [
    "### 3.8 Examining the Relationship Between Variables in the Datasets\n",
    "To achieve this, we will be using the pandas corr() function, and using seaborn heatmap to get a better vizualization of the correlations."
   ]
  },
  {
   "cell_type": "code",
   "execution_count": 32,
   "id": "6e1879f5",
   "metadata": {},
   "outputs": [
    {
     "data": {
      "text/plain": [
       "<AxesSubplot:>"
      ]
     },
     "execution_count": 32,
     "metadata": {},
     "output_type": "execute_result"
    },
    {
     "data": {
      "image/png": "[encoded data removed]",
      "text/plain": [
       "<Figure size 720x576 with 2 Axes>"
      ]
     },
     "metadata": {
      "needs_background": "light"
     },
     "output_type": "display_data"
    }
   ],
   "source": [
    "#Plotting a correlation heatmap\n",
    "plt.figure(figsize=(10,8))\n",
    "sns.heatmap(df.corr(), annot = True)"
   ]
  },
  {
   "cell_type": "code",
   "execution_count": 33,
   "id": "e19f92f2",
   "metadata": {},
   "outputs": [
    {
     "data": {
      "text/plain": [
       "<AxesSubplot:>"
      ]
     },
     "execution_count": 33,
     "metadata": {},
     "output_type": "execute_result"
    },
    {
     "data": {
      "image/png": "[encoded data removed]",
      "text/plain": [
       "<Figure size 432x288 with 2 Axes>"
      ]
     },
     "metadata": {
      "needs_background": "light"
     },
     "output_type": "display_data"
    }
   ],
   "source": [
    "#Isolating just the Price row in the heatmap\n",
    "Corr_matrix = df.corr()\n",
    "\n",
    "sns.heatmap(Corr_matrix[['Price']], annot=True)"
   ]
  },
  {
   "cell_type": "markdown",
   "id": "8e687c73",
   "metadata": {},
   "source": [
    "#### Observations:\n",
    "The correlation shows that bedrooms have the most positive relationship with the prices, indicating that the more the number of bedrooms, the liklihood of a higher cost in rent prices. However, most of the features show a poor relationship with prices, and furnished appartment shows a negative  correlation, meaning, prices are not impacted by that feature.\n",
    "\n",
    "\n",
    "Lets examine the relationship between our target variable(price) and other variables that has show a strong correlation to target variable.\n"
   ]
  },
  {
   "cell_type": "code",
   "execution_count": 34,
   "id": "2b2d8789",
   "metadata": {},
   "outputs": [
    {
     "data": {
      "text/plain": [
       "<Figure size 720x576 with 0 Axes>"
      ]
     },
     "metadata": {},
     "output_type": "display_data"
    },
    {
     "data": {
      "image/png": "[encoded data removed]",
      "text/plain": [
       "<Figure size 540x180 with 3 Axes>"
      ]
     },
     "metadata": {
      "needs_background": "light"
     },
     "output_type": "display_data"
    }
   ],
   "source": [
    "# Identifying positive correlated variables\n",
    "columns = ['Bedrooms', 'Bathrooms', 'Toilets']\n",
    "\n",
    "# Creating a pair plot\n",
    "plt.figure(figsize=(10,8))\n",
    "sns.pairplot(df, \n",
    "             x_vars=columns, \n",
    "             y_vars='Price',\n",
    "             diag_kind='hist',\n",
    "             kind='reg')\n",
    "#Displaying the chart\n",
    "plt.show()"
   ]
  },
  {
   "cell_type": "markdown",
   "id": "3f3c34f5",
   "metadata": {},
   "source": [
    "#### Observation\n",
    "All the predictor features seem to have a positive correlation with price.\n",
    "\n",
    "NOTE: Ultimately, it is good practice to drop columns that have negative correlation, as they do not influence the target variable. However, for the sake of our proposed webpage, we'll keeo them.\n",
    "\n",
    "W have now concluded this session of the analysis, we will proceed to save the cleaned CSV file."
   ]
  },
  {
   "cell_type": "code",
   "execution_count": 35,
   "id": "351dd6d3",
   "metadata": {},
   "outputs": [],
   "source": [
    "#Saving the clean dataset\n",
    "df.to_csv('Cleaned_lagos_renewed.csv')"
   ]
  },
  {
   "cell_type": "code",
   "execution_count": 36,
   "id": "19be301b",
   "metadata": {},
   "outputs": [
    {
     "name": "stdout",
     "output_type": "stream",
     "text": [
      "<class 'pandas.core.frame.DataFrame'>\n",
      "Int64Index: 49835 entries, 0 to 53069\n",
      "Data columns (total 8 columns):\n",
      " #   Column        Non-Null Count  Dtype \n",
      "---  ------        --------------  ----- \n",
      " 0   Price         49835 non-null  int64 \n",
      " 1   Serviced      49835 non-null  int64 \n",
      " 2   Newly Built   49835 non-null  int64 \n",
      " 3   Furnished     49835 non-null  int64 \n",
      " 4   Bedrooms      49835 non-null  int64 \n",
      " 5   Bathrooms     49835 non-null  int64 \n",
      " 6   Toilets       49835 non-null  int64 \n",
      " 7   Neighborhood  49835 non-null  object\n",
      "dtypes: int64(7), object(1)\n",
      "memory usage: 3.4+ MB\n"
     ]
    }
   ],
   "source": [
    "df.info()"
   ]
  },
  {
   "cell_type": "markdown",
   "id": "5742cc97",
   "metadata": {},
   "source": [
    "## 4.0 Data Modelling\n",
    "\n",
    "To make predictions on our data, we will be using various regression models from Scikit-Learn. Our goal is to predict the rent prices of various houses, given the combination of several variables. For this analysis, we will evaluate our model using the R2_score. A higher R2_score indicates that our model is performing well. Ultimately, we want to achieve a model that will give us more accurate predictions.\n",
    "\n",
    "Here are the regression models we will be using for our analysis:\n",
    "\n",
    "- Linear Regression\n",
    "- Ridge Regressor\n",
    "- Lasso Regressor\n",
    "- Random forest Regressor\n",
    "- Gradient Boost Regressor\n",
    "- Decision Tree Regressor\n",
    "\n",
    "### 4.1 Pre-processing\n",
    "\n",
    "- Importing important libraries\n",
    "- Spliting the data into dependent and independent variables\n",
    "- Splting the data into test and train dataset\n",
    "- Defining the column transformer, and the standardscaler.\n",
    "\n",
    "#### 4.1.1 Importing important libraries/models"
   ]
  },
  {
   "cell_type": "code",
   "execution_count": 37,
   "id": "1c49e571",
   "metadata": {},
   "outputs": [],
   "source": [
    "# Import libraries for data splitting and preprocessing\n",
    "from sklearn.model_selection import train_test_split\n",
    "from sklearn.preprocessing import OneHotEncoder, StandardScaler\n",
    "from sklearn.compose import make_column_transformer\n",
    "from sklearn.pipeline import make_pipeline\n",
    "\n",
    "# Import specific regression models\n",
    "from sklearn.linear_model import LinearRegression, Ridge, Lasso\n",
    "from sklearn.ensemble import RandomForestRegressor, GradientBoostingRegressor\n",
    "from sklearn.tree import DecisionTreeRegressor\n",
    "import xgboost as xgb\n",
    "\n",
    "# Import evaluation metrics\n",
    "from sklearn.metrics import r2_score\n",
    "\n",
    "# Import pickle for saving and loading models\n",
    "import pickle"
   ]
  },
  {
   "cell_type": "markdown",
   "id": "58dcb891",
   "metadata": {},
   "source": [
    "#### 4.1.2 Splitting the data into dependent and independent variables\n",
    "\n",
    "Here, Price is our dependent variable(Target), while everyother columns are the dependent variable"
   ]
  },
  {
   "cell_type": "code",
   "execution_count": 38,
   "id": "6a102f48",
   "metadata": {},
   "outputs": [
    {
     "name": "stdout",
     "output_type": "stream",
     "text": [
      "(49835,) (49835, 7)\n"
     ]
    }
   ],
   "source": [
    "# Seperating the data into independent(x) and dependent(y) variables\n",
    "x = df.drop(columns= ['Price'])\n",
    "y = df['Price']\n",
    "\n",
    "print(y.shape, x.shape)"
   ]
  },
  {
   "cell_type": "markdown",
   "id": "a521c1a6",
   "metadata": {},
   "source": [
    "#### 4.1.3 Splitting the dataset into train and test data.\n",
    "\n",
    "Here, 80% of our data will be our train data, and 20% will be the test data"
   ]
  },
  {
   "cell_type": "code",
   "execution_count": 39,
   "id": "0df5ad81",
   "metadata": {},
   "outputs": [
    {
     "name": "stdout",
     "output_type": "stream",
     "text": [
      "Shape of x_Training set :  (39868, 7)\n",
      "Shape of x_Test set :  (9967, 7)\n",
      "Shape of y_Training set :  (39868,)\n",
      "Shape of y_Test set :  (9967,)\n"
     ]
    }
   ],
   "source": [
    "# Splitting data in train and test sets\n",
    "x_train, x_test, y_train, y_test = train_test_split(x, y, test_size=0.2, random_state= 1)\n",
    "\n",
    "#Printing the shape of both the training and testing set to see how they've been split\n",
    "print(\"Shape of x_Training set : \", x_train.shape)\n",
    "print(\"Shape of x_Test set : \", x_test.shape)\n",
    "print(\"Shape of y_Training set : \", y_train.shape)\n",
    "print(\"Shape of y_Test set : \", y_test.shape)"
   ]
  },
  {
   "cell_type": "markdown",
   "id": "6b73775b",
   "metadata": {},
   "source": [
    "#### Observation:\n",
    "The train data has a total of 39,868 rows and the the test data has a total of 9,967 rows. \n",
    "\n",
    "\n",
    "#### 4.1.4 Hotencoding and Column Standardizing\n",
    "The models can only read binary numbers, so it is important that the Neighborhood column is converted to string to binaries, this is achievable using the OneHotEncoder library. Also, for our numeric columns, we would be standardizing the numeric columns in our x_test data to ensure that they are of the same scale, this helps the model in predicting better."
   ]
  },
  {
   "cell_type": "code",
   "execution_count": 40,
   "id": "90fe40f0",
   "metadata": {},
   "outputs": [],
   "source": [
    "#Hot encoding the location column, to make them binary, thus machine readable\n",
    "column_trans = make_column_transformer((OneHotEncoder(sparse= False),['Neighborhood']),remainder='passthrough')\n",
    "scaler = StandardScaler()"
   ]
  },
  {
   "cell_type": "markdown",
   "id": "2c868429",
   "metadata": {},
   "source": [
    "#### 4.1.5  LinearRegression Model"
   ]
  },
  {
   "cell_type": "code",
   "execution_count": 41,
   "id": "f78d78ef",
   "metadata": {},
   "outputs": [
    {
     "name": "stdout",
     "output_type": "stream",
     "text": [
      "R-squared score: 0.6665830021644317\n"
     ]
    }
   ],
   "source": [
    "# Create the LinearRegression\n",
    "lr = LinearRegression(n_jobs=-1)\n",
    "\n",
    "# Create the pipeline with column transformer, scaler, and the RandomForestRegressor\n",
    "pipe = make_pipeline(column_trans, scaler,lr)\n",
    "\n",
    "# Fit the pipeline to the training data\n",
    "pipe.fit(x_train, y_train)\n",
    "\n",
    "# Make predictions on the test set\n",
    "lr_y_pred = pipe.predict(x_test)\n",
    "\n",
    "# Calculate the evaluation\n",
    "r2 = r2_score(y_test, lr_y_pred)\n",
    "\n",
    "# Print the evaluation metrics\n",
    "print(\"R-squared score:\", r2)"
   ]
  },
  {
   "cell_type": "markdown",
   "id": "cb7d808e",
   "metadata": {},
   "source": [
    "#### 4.1.6  Lasso Regression Model"
   ]
  },
  {
   "cell_type": "code",
   "execution_count": 42,
   "id": "88b26ac8",
   "metadata": {},
   "outputs": [
    {
     "name": "stdout",
     "output_type": "stream",
     "text": [
      "R-squared score: 0.6665745489449153\n"
     ]
    }
   ],
   "source": [
    "# Create the LASSO\n",
    "la = Lasso()\n",
    "\n",
    "# Create the pipeline with column transformer, scaler, and the Lasso Regressor\n",
    "pipe = make_pipeline(column_trans, scaler, la)\n",
    "\n",
    "# Fit the pipeline to the training data\n",
    "pipe.fit(x_train, y_train)\n",
    "\n",
    "# Make predictions on the test set\n",
    "la_y_pred = pipe.predict(x_test)\n",
    "\n",
    "# Calculate the R-squared score\n",
    "r2 = r2_score(y_test, la_y_pred)\n",
    "\n",
    "# Print the R-squared score\n",
    "print(\"R-squared score:\", r2)"
   ]
  },
  {
   "cell_type": "markdown",
   "id": "1aee3b7c",
   "metadata": {},
   "source": [
    "#### 4.1.7 GradientBoostingRegressor Model"
   ]
  },
  {
   "cell_type": "code",
   "execution_count": 43,
   "id": "73fea39a",
   "metadata": {},
   "outputs": [
    {
     "name": "stdout",
     "output_type": "stream",
     "text": [
      "R-squared score: 0.7116069766645055\n"
     ]
    }
   ],
   "source": [
    "# Create the GradientBoostingRegressor\n",
    "gb = GradientBoostingRegressor()\n",
    "\n",
    "# Create the pipeline with column transformer, scaler, and the GradientBoostingRegressor\n",
    "pipe = make_pipeline(column_trans, scaler, gb)\n",
    "\n",
    "# Fit the pipeline to the training data\n",
    "pipe.fit(x_train, y_train)\n",
    "\n",
    "# Make predictions on the test set\n",
    "gb_y_pred = pipe.predict(x_test)\n",
    "\n",
    "# Calculate the R-squared score\n",
    "r2 = r2_score(y_test, gb_y_pred)\n",
    "\n",
    "# Print the R-squared score\n",
    "print(\"R-squared score:\", r2)"
   ]
  },
  {
   "cell_type": "markdown",
   "id": "c7e2e9ce",
   "metadata": {},
   "source": [
    "#### 4.1.8 RandomForestRegressor Model"
   ]
  },
  {
   "cell_type": "code",
   "execution_count": 44,
   "id": "5e0fc9b2",
   "metadata": {},
   "outputs": [
    {
     "name": "stdout",
     "output_type": "stream",
     "text": [
      "R-squared score: 0.7439503655113542\n"
     ]
    }
   ],
   "source": [
    "# Create the RandomForestRegressor\n",
    "rf = RandomForestRegressor()\n",
    "\n",
    "# Create the pipeline with column transformer, scaler, and the RandomForestRegressor\n",
    "pipe = make_pipeline(column_trans, scaler, rf)\n",
    "\n",
    "# Fit the pipeline to the training data\n",
    "pipe.fit(x_train, y_train)\n",
    "\n",
    "# Make predictions on the test set\n",
    "rf_y_pred = pipe.predict(x_test)\n",
    "\n",
    "# Calculate the R-squared score\n",
    "r2 = r2_score(y_test, rf_y_pred)\n",
    "\n",
    "# Print the R-squared score\n",
    "print(\"R-squared score:\", r2)\n"
   ]
  },
  {
   "cell_type": "markdown",
   "id": "6d2c8d89",
   "metadata": {},
   "source": [
    "#### 4.1.9  DecisionTreeRegressor Model"
   ]
  },
  {
   "cell_type": "code",
   "execution_count": 45,
   "id": "45630316",
   "metadata": {},
   "outputs": [
    {
     "name": "stdout",
     "output_type": "stream",
     "text": [
      "R-squared score: 0.7303962546562266\n"
     ]
    }
   ],
   "source": [
    "DC=DecisionTreeRegressor()\n",
    "\n",
    "# Create the pipeline with column transformer, scaler, and the DecisionTreeRegressor\n",
    "pipe = make_pipeline(column_trans, scaler, DC)\n",
    "\n",
    "# Fit the pipeline to the training data\n",
    "pipe.fit(x_train, y_train)\n",
    "\n",
    "# Make predictions on the test set\n",
    "DC_y_pred = pipe.predict(x_test)\n",
    "\n",
    "# Calculate the R-squared score\n",
    "r2 = r2_score(y_test, DC_y_pred)\n",
    "\n",
    "# Print the R-squared score\n",
    "print(\"R-squared score:\", r2)"
   ]
  },
  {
   "cell_type": "markdown",
   "id": "fb1a255c",
   "metadata": {},
   "source": [
    "#### 4.1.10  XGBRegressor Model"
   ]
  },
  {
   "cell_type": "code",
   "execution_count": 46,
   "id": "5e19c843",
   "metadata": {},
   "outputs": [
    {
     "name": "stdout",
     "output_type": "stream",
     "text": [
      "R-squared score: 0.75256839151081\n"
     ]
    }
   ],
   "source": [
    "import xgboost as xgb\n",
    "\n",
    "# Create the Xgboosregressor model\n",
    "xgb = xgb.XGBRegressor()\n",
    "\n",
    "# Create the pipeline with column transformer, scaler, and the XGBRegressor\n",
    "pipe = make_pipeline(column_trans, scaler,xgb)\n",
    "\n",
    "# Fit the pipeline to the training data\n",
    "pipe.fit(x_train, y_train)\n",
    "\n",
    "# Make predictions on the test set\n",
    "xgb_y_pred = pipe.predict(x_test)\n",
    "\n",
    "# Calculate the evaluation\n",
    "r2 = r2_score(y_test, xgb_y_pred)\n",
    "\n",
    "# Print the evaluation metrics\n",
    "print(\"R-squared score:\", r2)"
   ]
  },
  {
   "cell_type": "markdown",
   "id": "dd382a13",
   "metadata": {},
   "source": [
    "#### Observation\n",
    "\n",
    "The XGBRegressor model gives a better R2_score(75%) than the rest of the model, hence, it is our choice model for making the prediction. We will now proceed to saving the model."
   ]
  },
  {
   "cell_type": "code",
   "execution_count": 47,
   "id": "6b0752d1",
   "metadata": {},
   "outputs": [
    {
     "name": "stdout",
     "output_type": "stream",
     "text": [
      "Model saved successfully.\n"
     ]
    }
   ],
   "source": [
    "#Saving the model\n",
    "import pickle\n",
    "pickle.dump(pipe,open('xgb_model2.pkl','wb'))\n",
    "print(\"Model saved successfully.\")"
   ]
  },
  {
   "cell_type": "code",
   "execution_count": null,
   "id": "bc1eab52",
   "metadata": {},
   "outputs": [],
   "source": []
  }
 ],
 "metadata": {
  "kernelspec": {
   "display_name": "Python 3 (ipykernel)",
   "language": "python",
   "name": "python3"
  },
  "language_info": {
   "codemirror_mode": {
    "name": "ipython",
    "version": 3
   },
   "file_extension": ".py",
   "mimetype": "text/x-python",
   "name": "python",
   "nbconvert_exporter": "python",
   "pygments_lexer": "ipython3",
   "version": "3.9.12"
  }
 },
 "nbformat": 4,
 "nbformat_minor": 5
}
